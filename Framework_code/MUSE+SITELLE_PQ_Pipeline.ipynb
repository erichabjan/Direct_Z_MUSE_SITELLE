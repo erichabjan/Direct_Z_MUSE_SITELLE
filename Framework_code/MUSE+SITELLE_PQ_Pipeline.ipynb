{
 "cells": [
  {
   "cell_type": "code",
   "execution_count": null,
   "id": "e21ca492",
   "metadata": {},
   "outputs": [],
   "source": [
    "import numpy as np\n",
    "import matplotlib.pyplot as plt\n",
    "from astropy.table import Table, join, QTable\n",
    "import astropy.units as u\n",
    "import sys\n",
    "import pyneb as pn\n",
    "from multiprocessing import Pool\n",
    "import multiprocessing as mp\n",
    "import math\n",
    "from astropy.table import vstack\n",
    "from multiprocessing.pool import ThreadPool\n",
    "\n",
    "from concurrent.futures import ThreadPoolExecutor"
   ]
  },
  {
   "attachments": {},
   "cell_type": "markdown",
   "id": "3944d659",
   "metadata": {},
   "source": [
    "### Import Refit data"
   ]
  },
  {
   "cell_type": "code",
   "execution_count": null,
   "id": "ef5f3df5",
   "metadata": {},
   "outputs": [],
   "source": [
    "galdic = {1:'NGC4254', 2:'NGC4535', 3:'NGC3351', 4:'NGC2835', 5:'NGC0628'}  ## There is no SITELLE data for NGC 4254\n",
    "galaxy = galdic[5]\n",
    "infile = open(f\"/home/habjan/jupfiles/data/{galaxy}_refit+SITELLEfits_data.fits\",'rb')\n",
    "data = Table.read(infile)\n",
    "galaxy"
   ]
  },
  {
   "attachments": {},
   "cell_type": "markdown",
   "id": "24a2c621",
   "metadata": {},
   "source": [
    "### Set parameters"
   ]
  },
  {
   "cell_type": "code",
   "execution_count": null,
   "id": "4537a570",
   "metadata": {},
   "outputs": [],
   "source": [
    "mciters = 10**3\n",
    "snerr = 0"
   ]
  },
  {
   "attachments": {},
   "cell_type": "markdown",
   "id": "c50f1344",
   "metadata": {},
   "source": [
    "### PyNeb Diagnostics"
   ]
  },
  {
   "cell_type": "code",
   "execution_count": null,
   "id": "73d15954",
   "metadata": {},
   "outputs": [],
   "source": [
    "diags = pn.Diagnostics()\n",
    "\n",
    "diags.addDiag('[OII] b3727/b7325', ('O2', '(L(3726)+L(3729))/(L(7319)+L(7320)+L(7330)+L(7331))', \n",
    "                                    'RMS([E(3727A+),E(7319A+)*L(7319A+)/(L(7319A+)+L(7330A+)),E(7330A+)*L(7330A+)/(L(7319A+)+L(7330A+))])'))"
   ]
  },
  {
   "attachments": {},
   "cell_type": "markdown",
   "id": "222c6970",
   "metadata": {},
   "source": [
    "### SIII and OIII Temperature and SII Density Uncertainty Function"
   ]
  },
  {
   "cell_type": "code",
   "execution_count": null,
   "id": "5ed78815",
   "metadata": {},
   "outputs": [],
   "source": [
    "def siiitemperr(indata, iters):\n",
    "    \n",
    "    stemperr = np.zeros(iters)\n",
    "    otemperr = np.zeros(iters)\n",
    "    denerr = np.zeros(iters)\n",
    "    \n",
    "    for j in range(iters):\n",
    "        noise6312 = np.random.normal(0, indata['SIII6312_FLUX_CORR_REFIT_ERR'])\n",
    "        noise9069 = np.random.normal(0, indata['SIII9068_FLUX_CORR_ERR'])\n",
    "        noise6730 = np.random.normal(0, indata['SII6730_FLUX_CORR_ERR'])\n",
    "        noise6716 = np.random.normal(0, indata['SII6716_FLUX_CORR_ERR'])\n",
    "\n",
    "        stemperr[j], denerr[j] = diags.getCrossTemDen(diag_tem = '[SIII] 6312/9069', diag_den = '[SII] 6731/6716', \n",
    "                                                     value_tem = (indata['SIII6312_FLUX_CORR_REFIT']+noise6312)/(indata['SIII9068_FLUX_CORR']+noise9069), \n",
    "                                                     value_den = (indata['SII6730_FLUX_CORR']+noise6730)/(indata['SII6716_FLUX_CORR']+noise6716), \n",
    "                                                     guess_tem = 10**4)\n",
    "        otemperr[j] = 0.7092 * stemperr[j] + 3609.9\n",
    "            \n",
    "    stemperr = np.array([stemperr[i] for i in range(len(stemperr)) if np.isnan(stemperr[i]) == False])\n",
    "    otemperr = np.array([otemperr[i] for i in range(len(otemperr)) if np.isnan(otemperr[i]) == False])\n",
    "    denerr = np.array([denerr[i] for i in range(len(denerr)) if np.isnan(denerr[i]) == False])\n",
    "    \n",
    "    return np.std(stemperr), np.std(otemperr), np.std(denerr)"
   ]
  },
  {
   "cell_type": "markdown",
   "id": "1ec0b271",
   "metadata": {},
   "source": [
    "### OII Temperature and SII Density Uncertainty Function"
   ]
  },
  {
   "cell_type": "code",
   "execution_count": null,
   "id": "1f1d8f23",
   "metadata": {},
   "outputs": [],
   "source": [
    "def oiitemperr(indata, iters):\n",
    "    \n",
    "    otemperr = np.zeros(iters)\n",
    "    denerr = np.zeros(iters)\n",
    "    \n",
    "    for j in range(iters):\n",
    "        noise3727 = np.random.normal(0, indata['OII3727_FLUX_CORR_ERR'])\n",
    "        noise7320 = np.random.normal(0, indata['OII7319_FLUX_CORR_REFIT_ERR'])\n",
    "        noise7330 = np.random.normal(0, indata['OII7330_FLUX_CORR_REFIT_ERR'])\n",
    "        noise6730 = np.random.normal(0, indata['SII6730_FLUX_CORR_ERR'])\n",
    "        noise6716 = np.random.normal(0, indata['SII6716_FLUX_CORR_ERR'])\n",
    "\n",
    "        otemperr[j], denerr[j] = diags.getCrossTemDen(diag_tem = '[OII] b3727/b7325', diag_den = '[SII] 6731/6716', \n",
    "                                                        value_tem = (indata['OII3727_FLUX_CORR']+noise3727) / (indata['OII7319_FLUX_CORR_REFIT'] + noise7320 + indata['OII7330_FLUX_CORR_REFIT'] + noise7330), \n",
    "                                                        value_den = (indata['SII6730_FLUX_CORR']+noise6730)/(indata['SII6716_FLUX_CORR']+noise6716), \n",
    "                                                        guess_tem = 10**4)\n",
    "            \n",
    "    otemperr = np.array([otemperr[i] for i in range(len(otemperr)) if np.isnan(otemperr[i]) == False])\n",
    "    denerr = np.array([denerr[i] for i in range(len(denerr)) if np.isnan(denerr[i]) == False])\n",
    "    \n",
    "    return np.std(otemperr), np.std(denerr)"
   ]
  },
  {
   "cell_type": "markdown",
   "id": "7e1f0021",
   "metadata": {},
   "source": [
    "### NII temperature and SII density uncertainty function"
   ]
  },
  {
   "cell_type": "code",
   "execution_count": null,
   "id": "2f4b2b2d",
   "metadata": {},
   "outputs": [],
   "source": [
    "def niitemperr(indata, iters):\n",
    "    \n",
    "    temperr = np.zeros(iters)\n",
    "    denerr = np.zeros(iters)\n",
    "    \n",
    "    for j in range(iters):\n",
    "        noise5754 = np.random.normal(0, indata['NII5754_FLUX_CORR_REFIT_ERR'])\n",
    "        noise6583 = np.random.normal(0, indata['NII6583_FLUX_CORR_ERR'])\n",
    "        noise6730 = np.random.normal(0, indata['SII6730_FLUX_CORR_ERR'])\n",
    "        noise6716 = np.random.normal(0, indata['SII6716_FLUX_CORR_ERR'])\n",
    "\n",
    "        temperr[j], denerr[j] = diags.getCrossTemDen(diag_tem = '[NII] 5755/6584', diag_den = '[SII] 6731/6716', \n",
    "                                                     value_tem = (indata['NII5754_FLUX_CORR_REFIT']+noise5754)/(indata['NII6583_FLUX_CORR']+noise6583), \n",
    "                                                     value_den = (indata['SII6730_FLUX_CORR']+noise6730)/(indata['SII6716_FLUX_CORR']+noise6716), \n",
    "                                                     guess_tem = 10**4)\n",
    "            \n",
    "    temperr = np.array([temperr[i] for i in range(len(temperr)) if np.isnan(temperr[i]) == False])\n",
    "    denerr = np.array([denerr[i] for i in range(len(denerr)) if np.isnan(denerr[i]) == False])\n",
    "    \n",
    "    return np.std(temperr), np.std(denerr)"
   ]
  },
  {
   "attachments": {},
   "cell_type": "markdown",
   "id": "f7a2286b",
   "metadata": {},
   "source": [
    "### Temperature and Denisty Function"
   ]
  },
  {
   "cell_type": "code",
   "execution_count": null,
   "id": "00e56675",
   "metadata": {},
   "outputs": [],
   "source": [
    "def dentemp(indata, err, iters):\n",
    "\n",
    "  teoii = np.zeros(len(indata))\n",
    "  neoii = np.zeros(len(indata))\n",
    "  teoiierr = np.zeros(len(indata))\n",
    "  neoiierr = np.zeros(len(indata))\n",
    "  for i in range(len(indata)):\n",
    "        if indata[i]['BPT_NII'] == 0 and indata[i]['OII3727_FLUX_CORR'] > err * indata[i]['OII3727_FLUX_CORR_ERR'] and indata[i]['SII6730_FLUX_CORR'] > err * indata[i]['SII6730_FLUX_CORR_ERR'] and\\\n",
    "            indata[i]['SII6716_FLUX_CORR'] > err * indata[i]['SII6716_FLUX_CORR_ERR'] and indata[i]['OII7319_FLUX_CORR_REFIT'] > err * indata[i]['OII7319_FLUX_CORR_REFIT_ERR'] and\\\n",
    "                indata[i]['OII7330_FLUX_CORR_REFIT'] > err * indata[i]['OII7330_FLUX_CORR_REFIT_ERR']:\n",
    "            teoii[i], neoii[i] = diags.getCrossTemDen(diag_tem = '[OII] b3727/b7325', diag_den = '[SII] 6731/6716', \n",
    "                                                    value_tem = indata[i]['OII3727_FLUX_CORR'] / (indata[i]['OII7319_FLUX_CORR_REFIT'] + indata[i]['OII7330_FLUX_CORR_REFIT']), \n",
    "                                                    value_den = indata[i]['SII6730_FLUX_CORR']/indata[i]['SII6716_FLUX_CORR'], \n",
    "                                                    guess_tem = 10**4)\n",
    "            teoiierr[i], neoiierr[i] = oiitemperr(indata[i], iters)\n",
    "        else:\n",
    "            teoii[i], neoii[i] = np.nan, np.nan\n",
    "            teoiierr[i], neoiierr[i] = np.nan, np.nan\n",
    "\n",
    "  tenii = np.zeros(len(indata))\n",
    "  nenii = np.zeros(len(indata))\n",
    "  teniierr = np.zeros(len(indata))\n",
    "  neniierr = np.zeros(len(indata))\n",
    "  for i in range(len(indata)):\n",
    "        if indata[i]['BPT_NII'] == 0 and indata[i]['NII5754_FLUX_CORR_REFIT'] > err * indata[i]['NII5754_FLUX_CORR_REFIT_ERR'] and indata[i]['SII6730_FLUX_CORR'] > err * indata[i]['SII6730_FLUX_CORR_ERR'] and\\\n",
    "            indata[i]['SII6716_FLUX_CORR'] > err * indata[i]['SII6716_FLUX_CORR_ERR'] and indata[i]['NII6583_FLUX_CORR'] > err * indata[i]['NII6583_FLUX_CORR_ERR']:\n",
    "            tenii[i], nenii[i] = diags.getCrossTemDen(diag_tem = '[NII] 5755/6584', diag_den = '[SII] 6731/6716', \n",
    "                                                    value_tem = indata[i]['NII5754_FLUX_CORR_REFIT']/indata[i]['NII6583_FLUX_CORR'], \n",
    "                                                    value_den = indata[i]['SII6730_FLUX_CORR']/indata[i]['SII6716_FLUX_CORR'], \n",
    "                                                    guess_tem = 10**4)\n",
    "            teniierr[i], neniierr[i] = niitemperr(indata[i], iters)\n",
    "        else:\n",
    "            tenii[i], nenii[i] = np.nan, np.nan\n",
    "            teniierr[i], neniierr[i] = np.nan, np.nan\n",
    "\n",
    "  tesiii = np.zeros(len(indata))\n",
    "  nesiii = np.zeros(len(indata))\n",
    "  tesiiierr = np.zeros(len(indata))\n",
    "  nesiiierr = np.zeros(len(indata))\n",
    "  teoiii = np.zeros(len(indata))\n",
    "  teoiiierr = np.zeros(len(indata))\n",
    "  for i in range(len(indata)):\n",
    "    if indata[i]['BPT_NII'] == 0 and indata[i]['SIII9068_FLUX_CORR'] > err * indata[i]['SIII9068_FLUX_CORR_ERR'] and indata[i]['SII6730_FLUX_CORR'] > err * indata[i]['SII6730_FLUX_CORR_ERR'] and\\\n",
    "        indata[i]['SII6716_FLUX_CORR'] > err * indata[i]['SII6716_FLUX_CORR_ERR'] and indata[i]['SIII6312_FLUX_CORR_REFIT'] > err * indata[i]['SIII6312_FLUX_CORR_REFIT_ERR']:\n",
    "        tesiii[i], nesiii[i] = diags.getCrossTemDen(diag_tem = '[SIII] 6312/9069', diag_den = '[SII] 6731/6716', \n",
    "                                        value_tem = indata[i]['SIII6312_FLUX_CORR_REFIT']/indata[i]['SIII9068_FLUX_CORR'], \n",
    "                                              value_den = indata[i]['SII6730_FLUX_CORR']/indata[i]['SII6716_FLUX_CORR'], \n",
    "                                                    guess_tem = 10**4)\n",
    "        tesiiierr[i], teoiiierr[i], nesiiierr[i] = siiitemperr(indata[i], iters)\n",
    "\n",
    "        if tesiii[i] < 14000:\n",
    "            teoiii[i] = 0.7092 * tesiii[i] + 3609.9\n",
    "        else: \n",
    "            teoiii[i], teoiiierr[i] = np.nan, np.nan\n",
    "    else: \n",
    "        tesiii[i], nesiii[i] = np.nan, np.nan\n",
    "        tesiiierr[i], nesiiierr[i] = np.nan, np.nan\n",
    "        teoiii[i], teoiiierr[i] = np.nan, np.nan\n",
    "\n",
    "  indata.add_columns([teoii, tenii, tesiii, teoiii, neoii, nenii, nesiii, teoiierr, teniierr, tesiiierr, teoiiierr, neoiierr, neniierr, nesiiierr], \n",
    "                      names=('OII_TEMP', 'NII_TEMP', 'SIII_TEMP','OIII_TEMP', 'SII_DEN_OII', 'SII_DEN_NII', 'SII_DEN_SIII',\n",
    "                            'OII_TEMP_ERR', 'NII_TEMP_ERR', 'SIII_TEMP_ERR','OIII_TEMP_ERR', 'SII_DEN_OII_ERR', 'SII_DEN_NII_ERR', 'SII_DEN_SIII_ERR'))\n",
    "\n",
    "  return indata"
   ]
  },
  {
   "attachments": {},
   "cell_type": "markdown",
   "id": "486d5d3a",
   "metadata": {},
   "source": [
    "# Multiprocessing of Temperature and Density Data"
   ]
  },
  {
   "cell_type": "code",
   "execution_count": null,
   "id": "1cc96aed",
   "metadata": {},
   "outputs": [],
   "source": [
    "if __name__ == \"__main__\":\n",
    "\n",
    "    corenum = 32                            #chosen based of the number of cores\n",
    "    batch = math.ceil(len(data)/corenum)     #batch determines the number of data points in each batched dataset\n",
    "    datalist = [data[i:i+batch] for i in range(0, len(data), batch)] #make list of batched data\n",
    "    \n",
    "    pool = mp.Pool(processes = len(datalist))          #count processes are inititiated\n",
    "    mplist = [pool.apply_async(dentemp, args = (d, snerr, mciters)) for d in datalist] #each batched dataset is assigned to a core "
   ]
  },
  {
   "cell_type": "code",
   "execution_count": null,
   "id": "ca0ece02",
   "metadata": {},
   "outputs": [],
   "source": [
    "results = [mplist[i].get() for i in range(len(mplist))]      #Retrieve parallelized results"
   ]
  },
  {
   "attachments": {},
   "cell_type": "markdown",
   "id": "b9dce63f",
   "metadata": {},
   "source": [
    "# Metallicity"
   ]
  },
  {
   "attachments": {},
   "cell_type": "markdown",
   "id": "acbcfec5",
   "metadata": {},
   "source": [
    "### PyNeb atomic class information"
   ]
  },
  {
   "cell_type": "code",
   "execution_count": null,
   "id": "fe1ec4c6",
   "metadata": {},
   "outputs": [],
   "source": [
    "icf = pn.ICF()\n",
    "O1 = pn.Atom('O', 1)\n",
    "O2 = pn.Atom('O', 2)\n",
    "O3 = pn.Atom('O', 3)\n",
    "icf_list = ['Ial06_16']"
   ]
  },
  {
   "attachments": {},
   "cell_type": "markdown",
   "id": "65bc477a",
   "metadata": {},
   "source": [
    "### Monte Carlo Metallicity Functions"
   ]
  },
  {
   "cell_type": "code",
   "execution_count": null,
   "id": "19b0db55",
   "metadata": {},
   "outputs": [],
   "source": [
    "def metal_err(indata, iters):\n",
    "    meterr = np.zeros(iters)\n",
    "    ion2err = np.zeros(iters)\n",
    "    ion3err = np.zeros(iters)\n",
    "    \n",
    "    for j in range(iters):\n",
    "        \n",
    "        noise3727 = np.random.normal(0, indata['OII3727_FLUX_CORR_ERR'])\n",
    "        noise7319 = np.random.normal(0, indata['OII7319_FLUX_CORR_REFIT_ERR'])\n",
    "        noise7330 = np.random.normal(0, indata['OII7330_FLUX_CORR_REFIT_ERR'])\n",
    "        noisetemp2 = np.random.normal(0, indata['OII_TEMP_ERR'])\n",
    "        noiseden2 = np.random.normal(0, indata['SII_DEN_OII_ERR'])\n",
    "        noise4861 = np.random.normal(0, indata['HB4861_FLUX_CORR_ERR'])\n",
    "        noise5006 = np.random.normal(0, indata['OIII5006_FLUX_CORR_ERR'])\n",
    "        noisetemp3 = np.random.normal(0, indata['OIII_TEMP_ERR'])\n",
    "        noiseden3 = np.random.normal(0, indata['SII_DEN_SIII_ERR'])\n",
    "        \n",
    "        OII = O2.getIonAbundance(int_ratio = (indata['OII3727_FLUX_CORR'] + noise3727 + indata['OII7330_FLUX_CORR_REFIT'] + noise7330 + indata['OII7319_FLUX_CORR_REFIT'] + noise7319), \n",
    "                                 tem = indata['OII_TEMP'] + noisetemp2, \n",
    "                                 den= indata['SII_DEN_OII'] + noiseden2, \n",
    "                                 to_eval='L(3726)+L(3729)+L(7319)+L(7320)+L(7330)+L(7331)', \n",
    "                                 Hbeta = indata['HB4861_FLUX_CORR'] + noise4861)\n",
    "        \n",
    "        OIII = O3.getIonAbundance(int_ratio = (indata['OIII5006_FLUX_CORR']+noise5006), \n",
    "                                      tem = (indata['OIII_TEMP']+noisetemp3), \n",
    "                                      den= (indata['SII_DEN_SIII']+noiseden3), \n",
    "                                      to_eval='L(5007)', \n",
    "                                      Hbeta = (indata['HB4861_FLUX_CORR']+noise4861))\n",
    "            \n",
    "        abunlist = {'O2': OII, 'O3': OIII}\n",
    "        abundance = icf.getElemAbundance(abunlist, icf_list)\n",
    "        meterr[j] = 12 + np.log10(abundance['Ial06_16'])\n",
    "        ion2err[j] = OII\n",
    "        ion3err[j] = OIII\n",
    "        \n",
    "    meterr = np.array([meterr[i] for i in range(len(meterr)) if np.isnan(meterr[i]) == False])\n",
    "    ion2err = np.array([ion2err[i] for i in range(len(ion2err)) if np.isnan(ion2err[i]) == False])\n",
    "    ion3err = np.array([ion3err[i] for i in range(len(ion3err)) if np.isnan(ion3err[i]) == False])\n",
    "    \n",
    "    return np.std(meterr), np.std(ion2err), np.std(ion3err)"
   ]
  },
  {
   "attachments": {},
   "cell_type": "markdown",
   "id": "186b9368",
   "metadata": {},
   "source": [
    "### Metllicity Function"
   ]
  },
  {
   "cell_type": "code",
   "execution_count": null,
   "id": "acbe7ce1",
   "metadata": {},
   "outputs": [],
   "source": [
    "def metal(indata, err, iters):\n",
    "\n",
    "    met = np.zeros(len(indata))\n",
    "    ion2 = np.zeros(len(indata))\n",
    "    ion3 = np.zeros(len(indata))\n",
    "    meterr = np.zeros(len(indata))\n",
    "    ion2err = np.zeros(len(indata))\n",
    "    ion3err = np.zeros(len(indata))\n",
    "    \n",
    "    for j in range(len(indata)):\n",
    "        if indata[j]['OII7330_FLUX_CORR_REFIT'] > err * indata[j]['OII7330_FLUX_CORR_REFIT_ERR'] and \\\n",
    "        indata[j]['OII7319_FLUX_CORR_REFIT'] > err * indata[j]['OII7319_FLUX_CORR_REFIT_ERR'] and \\\n",
    "        indata[j]['OII3727_FLUX_CORR'] > err * indata[j]['OII3727_FLUX_CORR_ERR'] and \\\n",
    "        indata[j]['HB4861_FLUX_CORR'] > err * indata[j]['HB4861_FLUX_CORR'] and \\\n",
    "        indata[j]['OIII5006_FLUX_CORR'] > err * indata[j]['OIII5006_FLUX_CORR_ERR']:\n",
    "            \n",
    "            OII = O2.getIonAbundance(int_ratio = (indata[j]['OII3727_FLUX_CORR'] + indata[j]['OII7330_FLUX_CORR_REFIT']+indata[j]['OII7319_FLUX_CORR_REFIT']), \n",
    "                                         tem = indata[j]['OII_TEMP'], den= indata[j]['SII_DEN_OII'], \n",
    "                                         to_eval='L(3726)+L(3729)+L(7319)+L(7320)+L(7330)+L(7331)', Hbeta = indata[j]['HB4861_FLUX_CORR'])\n",
    "            \n",
    "            OIII = O3.getIonAbundance(int_ratio = indata[j]['OIII5006_FLUX_CORR'], tem = indata[j]['OIII_TEMP'], \n",
    "                                      den= indata[j]['SII_DEN_SIII'], to_eval='L(5007)', \n",
    "                                      Hbeta = indata[j]['HB4861_FLUX_CORR'])\n",
    "            \n",
    "            abunlist = {'O2': OII, 'O3': OIII}\n",
    "            abundance = icf.getElemAbundance(abunlist, icf_list)\n",
    "            met[j] = 12 + np.log10(abundance['Ial06_16'])\n",
    "            ion2[j] = OII\n",
    "            ion3[j] = OIII\n",
    "            meterr[j], ion2err[j], ion3err[j] = metal_err(indata[j], iters)\n",
    "        else: \n",
    "            met[j], ion2[j], ion3[j] = np.nan, np.nan, np.nan\n",
    "            meterr[j], ion2err[j], ion3err[j] = np.nan, np.nan, np.nan\n",
    "\n",
    "    indata.add_columns([met, ion2, ion3, meterr, ion2err, ion3err],\n",
    "                     names=('MET_DIRECT', 'OII_ABUN', 'OIII_ABUN', \n",
    "                     'MET_DIRECT_ERR', 'OII_ABUN_ERR', 'OIII_ABUN_ERR'))\n",
    "\n",
    "    return indata"
   ]
  },
  {
   "attachments": {},
   "cell_type": "markdown",
   "id": "9e1e5679",
   "metadata": {},
   "source": [
    "### Create multiprocessing objects"
   ]
  },
  {
   "cell_type": "code",
   "execution_count": null,
   "id": "35ee6b8c",
   "metadata": {},
   "outputs": [],
   "source": [
    "if __name__ == \"__main__\":\n",
    "    \n",
    "    pool = mp.Pool(processes = len(results))          #count processes are inititiated\n",
    "    mplist2 = [pool.apply_async(metal, args = (r, snerr, 5000)) for r in results]"
   ]
  },
  {
   "attachments": {},
   "cell_type": "markdown",
   "id": "3dbe7406",
   "metadata": {},
   "source": [
    "### Get results from multiprocessing objects"
   ]
  },
  {
   "cell_type": "code",
   "execution_count": null,
   "id": "10d82533",
   "metadata": {},
   "outputs": [],
   "source": [
    "results2 = [mplist2[i].get() for i in range(len(mplist2))]\n",
    "metdata = vstack(results2)"
   ]
  },
  {
   "attachments": {},
   "cell_type": "markdown",
   "id": "37ddf147",
   "metadata": {},
   "source": [
    "# Save Metallicity Results"
   ]
  },
  {
   "cell_type": "code",
   "execution_count": null,
   "id": "204a47e9",
   "metadata": {},
   "outputs": [],
   "source": [
    "metdata.write(f'/home/habjan/jupfiles/data/{galaxy}_physdata_MUSE+SITELLE.fits', overwrite=True)  #, overwrite=True"
   ]
  }
 ],
 "metadata": {
  "kernelspec": {
   "display_name": "Python 3 (ipykernel)",
   "language": "python",
   "name": "python3"
  },
  "language_info": {
   "codemirror_mode": {
    "name": "ipython",
    "version": 3
   },
   "file_extension": ".py",
   "mimetype": "text/x-python",
   "name": "python",
   "nbconvert_exporter": "python",
   "pygments_lexer": "ipython3",
   "version": "3.10.11"
  }
 },
 "nbformat": 4,
 "nbformat_minor": 5
}
