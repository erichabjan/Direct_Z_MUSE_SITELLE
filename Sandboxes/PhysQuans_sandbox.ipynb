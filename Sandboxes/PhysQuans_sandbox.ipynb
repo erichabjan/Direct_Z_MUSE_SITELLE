{
 "cells": [
  {
   "cell_type": "code",
   "execution_count": null,
   "metadata": {},
   "outputs": [],
   "source": [
    "import numpy as np\n",
    "import matplotlib.pyplot as plt\n",
    "from astropy.table import Table, join, QTable, vstack\n",
    "import astropy.units as u\n",
    "import sys\n",
    "import pyneb as pn\n",
    "from multiprocessing import Pool\n",
    "import multiprocessing as mp\n",
    "import math\n",
    "from astropy.io import fits\n",
    "from orcs.process import SpectralCube\n",
    "\n",
    "from astropy.nddata import NDData, Cutout2D\n",
    "from astropy.wcs import WCS\n",
    "\n",
    "import astropy.units as u\n",
    "from astropy.coordinates import SkyCoord\n",
    "\n",
    "from reproject import reproject_interp\n",
    "from regions import PixCoord\n",
    "\n",
    "import pylab as pl\n",
    "\n",
    "from scipy.optimize import curve_fit\n",
    "from scipy.integrate import quad\n",
    "\n",
    "from orb.fit import fit_lines_in_spectrum\n",
    "from orb.utils.spectrum import corr2theta, amp_ratio_from_flux_ratio\n",
    "from orb.core import Lines\n",
    "import gvar\n",
    "import orb\n",
    "\n",
    "import extinction\n",
    "from extinction import apply, remove"
   ]
  },
  {
   "cell_type": "markdown",
   "metadata": {},
   "source": [
    "### Import data"
   ]
  },
  {
   "cell_type": "code",
   "execution_count": null,
   "metadata": {},
   "outputs": [],
   "source": [
    "galdic = {1:'NGC4254', 2:'NGC4535', 3:'NGC3351', 4:'NGC2835', 5:'NGC0628'}  ## There is no SITELLE data for NGC 4254\n",
    "galaxy = galdic[5]\n",
    "galveldic = {'NGC4254': 2388 , 'NGC4535': 1954  , 'NGC3351': 775, 'NGC2835': 867, 'NGC0628':651}\n",
    "galvel = galveldic[galaxy]\n",
    "galebv = {'NGC4254': 0.0334 , 'NGC4535': 0.0168 , 'NGC3351': 0.0239, 'NGC2835': 0.0859, 'NGC0628': 0.0607}\n",
    "ebv = galebv[galaxy]\n",
    "infile = open(f\"/home/habjan/jupfiles/data/{galaxy}_refit+SITELLEfits_data.fits\",'rb')\n",
    "data = Table.read(infile)\n",
    "\n",
    "hdul = fits.open(f'/home/habjan/jupfiles/data/{galaxy}_SITELLE_Spectra.fits')\n",
    "sitlam = hdul[0].data\n",
    "sitspec = hdul[1].data - hdul[2].data\n",
    "\n",
    "infile = f\"/home/habjan/jupfiles/data/{galaxy}_cube.hdf5\"\n",
    "cube = SpectralCube(infile)\n",
    "\n",
    "galaxy"
   ]
  },
  {
   "cell_type": "markdown",
   "metadata": {},
   "source": [
    "### Find the highest SNR [OII] regioins"
   ]
  },
  {
   "cell_type": "code",
   "execution_count": null,
   "metadata": {},
   "outputs": [],
   "source": [
    "brightreg = np.where(data['OII3727_FLUX_CORR'] > 20*data['OII3727_FLUX_CORR_ERR'])[0]\n",
    "brightreg"
   ]
  },
  {
   "cell_type": "markdown",
   "metadata": {},
   "source": [
    "# Electron Density and Temperature "
   ]
  },
  {
   "cell_type": "markdown",
   "metadata": {},
   "source": [
    "### Import PyNeb diagnostics"
   ]
  },
  {
   "cell_type": "code",
   "execution_count": null,
   "metadata": {},
   "outputs": [],
   "source": [
    "diags = pn.Diagnostics(addAll=True)"
   ]
  },
  {
   "cell_type": "markdown",
   "metadata": {},
   "source": [
    "### Create [OII] temperture diagnostic"
   ]
  },
  {
   "cell_type": "code",
   "execution_count": null,
   "metadata": {},
   "outputs": [],
   "source": [
    "diags.addDiag('[OII] b3727/b7325', ('O2', '(L(3726)+L(3729))/(L(7319)+L(7320)+L(7330)+L(7331))', \n",
    "                                    'RMS([E(3727A+),E(7319A+)*L(7319A+)/(L(7319A+)+L(7330A+)),E(7330A+)*L(7330A+)/(L(7319A+)+L(7330A+))])'))"
   ]
  },
  {
   "cell_type": "markdown",
   "metadata": {},
   "source": [
    "### Test an [OII] density calcualtion"
   ]
  },
  {
   "cell_type": "code",
   "execution_count": null,
   "metadata": {},
   "outputs": [],
   "source": [
    "test = data[brightreg[3]]\n",
    "\n",
    "te, ne = diags.getCrossTemDen(diag_tem = '[OII] b3727/b7325', diag_den = '[SII] 6731/6716', \n",
    "                                    value_tem = (test['OII3727_FLUX_CORR'])/(test['OII7319_FLUX_CORR_REFIT']+test['OII7330_FLUX_CORR_REFIT']), \n",
    "                                    value_den = test['SII6730_FLUX_CORR']/test['SII6716_FLUX_CORR'], \n",
    "                                    guess_tem = 10**4)\n",
    "te, ne"
   ]
  },
  {
   "cell_type": "markdown",
   "metadata": {},
   "source": [
    "### hypothetical flux [OII] flux ratios and find the resultant Density and Temperature"
   ]
  },
  {
   "cell_type": "code",
   "execution_count": null,
   "metadata": {},
   "outputs": [],
   "source": [
    "numiters = 100\n",
    "lowlim = 1.2\n",
    "uplim = 1.5\n",
    "fluxratios = np.linspace(lowlim, uplim, numiters)\n",
    "teoii = np.zeros(numiters)\n",
    "neoii = np.zeros(numiters)\n",
    "tesii = np.zeros(numiters)\n",
    "nesii = np.zeros(numiters)\n",
    "\n",
    "for i in range(numiters):\n",
    "    teoii[i], neoii[i] = diags.getCrossTemDen(diag_tem = '[OII] b3727/b7325', diag_den = '[SII] 6731/6716', \n",
    "                                              value_tem = 150, \n",
    "                                              value_den = 1/fluxratios[i], \n",
    "                                              guess_tem = 10**4)"
   ]
  },
  {
   "cell_type": "markdown",
   "metadata": {},
   "source": [
    "### Find what density value the flux ratio starts changing very little"
   ]
  },
  {
   "cell_type": "code",
   "execution_count": null,
   "metadata": {},
   "outputs": [],
   "source": [
    "lowden = 0\n",
    "for i in range(1, len(neoii)): \n",
    "    if (neoii[i-1] - neoii[i])/neoii[i] > 0.05:\n",
    "        lowden = i\n",
    "    if lowden != 0:\n",
    "        break\n",
    "lowden"
   ]
  },
  {
   "cell_type": "markdown",
   "metadata": {},
   "source": [
    "### Plot the Density results"
   ]
  },
  {
   "cell_type": "code",
   "execution_count": null,
   "metadata": {},
   "outputs": [],
   "source": [
    "plt.scatter(neoii, fluxratios, s=5, color='blue', label = '[SII] Density')\n",
    "\n",
    "plt.axvline(50, c = 'red', label=r'50 cm$^{-3}$')\n",
    "plt.axvline(100, c = 'green', label=r'100 cm$^{-3}$')\n",
    "plt.axvline(neoii[lowden], c = 'k', label=f'{round(neoii[lowden], 1)}' r'cm$^{-3}$')\n",
    "\n",
    "plt.ylabel('Flux Ratio')\n",
    "plt.xlabel(r'Electron Density [cm$^{-3}$]')\n",
    "plt.xlim(5, None)\n",
    "plt.xscale('log')\n",
    "plt.legend(fontsize=8)"
   ]
  },
  {
   "cell_type": "markdown",
   "metadata": {},
   "source": [
    "### Plot the Temperature Results"
   ]
  },
  {
   "cell_type": "code",
   "execution_count": null,
   "metadata": {},
   "outputs": [],
   "source": [
    "plt.scatter(fluxratios, teoii, s=10, marker='.', color='blue', label = '[OII] 3729/3726')\n",
    "plt.scatter(fluxratios, tesii, s=10, marker='.', color='red', label = '[SII] 6716/6731')\n",
    "\n",
    "plt.xlabel('Flux Ratio')\n",
    "plt.ylabel(r'Electron Temperature [K]')\n",
    "plt.ylim(0, None)\n",
    "#plt.yscale('log')"
   ]
  },
  {
   "cell_type": "markdown",
   "metadata": {},
   "source": [
    "# [SII] and [OII] data comparisons"
   ]
  },
  {
   "cell_type": "markdown",
   "metadata": {},
   "source": [
    "### Calculate the [SII] densities/temeperatures and flux ratios"
   ]
  },
  {
   "cell_type": "code",
   "execution_count": null,
   "metadata": {},
   "outputs": [],
   "source": [
    "nebrat = np.zeros(len(data))\n",
    "nebte = np.zeros(len(data))\n",
    "nebne = np.zeros(len(data))\n",
    "\n",
    "\n",
    "for i in range(len(data)):\n",
    "    try:\n",
    "        nebrat[i] = data[i]['SII6716_FLUX_CORR'] / data[i]['SII6730_FLUX_CORR']\n",
    "    except: \n",
    "        nebrat[i] = np.nan\n",
    "    \n",
    "    try: \n",
    "        nebte[i], nebne[i] = diags.getCrossTemDen(diag_tem = '[SII] 6731/6716', diag_den = '[SII] 6731/6716', \n",
    "                                                value_tem = 1/nebrat[i], \n",
    "                                                value_den = 1/nebrat[i], \n",
    "                                                guess_tem = 10**4)\n",
    "    except: \n",
    "        nebte[i], nebne[i] = np.nan, np.nan"
   ]
  },
  {
   "cell_type": "markdown",
   "metadata": {},
   "source": [
    "### Write a function that finds the [OII] fluxes with a different input amplitude"
   ]
  },
  {
   "cell_type": "code",
   "execution_count": null,
   "metadata": {},
   "outputs": [],
   "source": [
    "def oii_amp(phdata, inspec, inlam, incube, ingalvel, guess_amp):\n",
    "\n",
    "    OII3726_flux, OII3729_flux = np.zeros(len(phdata)), np.zeros(len(phdata))\n",
    "    OIIvelocity = np.zeros(len(phdata))\n",
    "\n",
    "    broadening_gvar = gvar.gvar(1, 20)\n",
    "\n",
    "    S2 = pn.Atom('S', 2)\n",
    "    O2 = pn.Atom('O', 2)\n",
    "    temp = 10**4\n",
    "    fitshape = 'sinc'\n",
    "    OII3726 = Lines().get_line_cm1('[OII]3726')\n",
    "    OII3729 = Lines().get_line_cm1('[OII]3729')\n",
    "    for i in range(len(phdata)):\n",
    "        \n",
    "        inspectrum = inspec[i]\n",
    "        inspectrum[np.isnan(inspectrum)] = 0\n",
    "\n",
    "        wave3726 = 3726.032\n",
    "        red3726 = 1/((wave3726*(data[i]['HA6562_VEL']+ingalvel)/(299792) + wave3726) * 10**-8)\n",
    "        wave3729 = 3728.815\n",
    "        red3729 = 1/((wave3729*(data[i]['HA6562_VEL']+ingalvel)/(299792) + wave3729) * 10**-8)\n",
    "\n",
    "        n1 = [np.where(inlam > incube.params.filter_range[0])[0][0],np.where(inlam > red3729 - 50)[0][0]]\n",
    "        n2 = [np.where(inlam > red3729 + 50)[0][0], np.where(inlam > incube.params.filter_range[1])[0][0]]\n",
    "        noise = (np.mean(inspectrum[n1[0]:n1[1]]) + np.mean(inspectrum[n2[0]:n2[1]])) / 2\n",
    "        noisestd = (np.std(inspectrum[n1[0]:n1[1]]) + np.std(inspectrum[n2[0]:n2[1]])) / 2\n",
    "        inspectrum = (inspectrum) - (noise)\n",
    "\n",
    "        invel = data[i]['HA6562_VEL']+ingalvel\n",
    "        velocity_gvar = gvar.gvar(invel, 20)    \n",
    "\n",
    "        amp_ratio = amp_ratio_from_flux_ratio(OII3729,OII3726,guess_amp)\n",
    "\n",
    "        try:\n",
    "\n",
    "            fitvel = fit_lines_in_spectrum(inspectrum, [OII3726, OII3729], \n",
    "                        step=incube.params.step, order=incube.params.order, nm_laser=incube.params.nm_laser, theta=corr2theta(incube.params.axis_corr), zpd_index=incube.params.zpd_index, \n",
    "                        wavenumber=True,\n",
    "                        apodization=1, \n",
    "                        fmodel=fitshape,\n",
    "                        pos_def=['1', '1'],\n",
    "                        pos_cov=[velocity_gvar],\n",
    "                        amp_def=['1', '1'], \n",
    "                        amp_guess=[1, amp_ratio],\n",
    "                        )\n",
    "\n",
    "            wave3726 = 3726.032\n",
    "            red3726 = 1/((wave3726*(fitvel['velocity'][0])/(299792) + wave3726) * 10**-8)\n",
    "            wave3729 = 3728.815\n",
    "            red3729 = 1/((wave3729*(fitvel['velocity'][1])/(299792) + wave3729) * 10**-8)\n",
    "            velocity_gvar = gvar.gvar(0, 1) \n",
    "\n",
    "            fit = fit_lines_in_spectrum(inspectrum, [red3726, red3729], \n",
    "                      step=incube.params.step, order=incube.params.order, nm_laser=incube.params.nm_laser, theta=corr2theta(incube.params.axis_corr), zpd_index=incube.params.zpd_index, \n",
    "                      wavenumber=True,\n",
    "                      apodization=1, \n",
    "                      fmodel=fitshape,\n",
    "                      pos_def='fixed',\n",
    "                      amp_def='free',\n",
    "                      )\n",
    "            \n",
    "            OII3726_flux[i], OII3729_flux[i] = fit['flux'] \n",
    "            OIIvelocity[i] = fitvel['velocity'][0] - ingalvel\n",
    "\n",
    "        except: \n",
    "            \n",
    "            OII3726_flux[i], OII3729_flux[i] = np.nan, np.nan\n",
    "            OIIvelocity[i] = np.nan\n",
    "    \n",
    "    return OII3726_flux, OII3729_flux, OIIvelocity"
   ]
  },
  {
   "cell_type": "markdown",
   "metadata": {},
   "source": [
    "### Obtain [OII] fluxes for a given amplitude ratio"
   ]
  },
  {
   "cell_type": "code",
   "execution_count": null,
   "metadata": {},
   "outputs": [],
   "source": [
    "inamp_ratio = 1.4\n",
    "oii3726, oii3729, oii_velocity = oii_amp(data, sitspec, sitlam, cube, galvel, inamp_ratio)"
   ]
  },
  {
   "cell_type": "markdown",
   "metadata": {},
   "source": [
    "### Calcualte densities, temperatures and line ratios for [OII] "
   ]
  },
  {
   "cell_type": "code",
   "execution_count": null,
   "metadata": {},
   "outputs": [],
   "source": [
    "oiirat = np.zeros(len(data))\n",
    "oiite = np.zeros(len(data))\n",
    "oiine = np.zeros(len(data))\n",
    "\n",
    "\n",
    "for i in range(len(data)):\n",
    "    try:\n",
    "        oiirat[i] = oii3729[i] / oii3726[i]\n",
    "    except: \n",
    "        oiirat[i] = np.nan\n",
    "    \n",
    "    try: \n",
    "        oiite[i], oiine[i] = diags.getCrossTemDen(diag_tem = '[OII] 3726/3729', diag_den = '[OII] 3726/3729', \n",
    "                                                value_tem = 1/oiirat[i], \n",
    "                                                value_den = 1/oiirat[i], \n",
    "                                                guess_tem = 10**4)\n",
    "    except: \n",
    "        oiite[i], oiine[i] = np.nan, np.nan"
   ]
  },
  {
   "cell_type": "markdown",
   "metadata": {},
   "source": [
    "### Plot histograms of the [OII] and [SII] flux ratios"
   ]
  },
  {
   "cell_type": "code",
   "execution_count": null,
   "metadata": {},
   "outputs": [],
   "source": [
    "inoiirat = oiirat[~np.isnan(oiirat)]\n",
    "innebrat = nebrat[~np.isnan(nebrat)]\n",
    "\n",
    "up = 3\n",
    "inoiirat = inoiirat[inoiirat < up]\n",
    "innebrat = innebrat[innebrat < up]\n",
    "\n",
    "low = 0\n",
    "inoiirat = inoiirat[low < inoiirat]\n",
    "innebrat = innebrat[low < innebrat]\n",
    "\n",
    "oiimed = np.median(inoiirat)\n",
    "nebmed = np.median(innebrat)\n",
    "\n",
    "a=np.random.random(100)*0.5 #a uniform distribution\n",
    "b=1-np.random.normal(size=100)*0.1 #a normal distribution \n",
    "bins=np.histogram(np.hstack((inoiirat,innebrat)), bins=100)[1]; #get the bin edges\n",
    "\n",
    "plt.hist(inoiirat, color='k', edgecolor='k', alpha = 1, bins=bins, label = f'[OII] 3729/3726: {len(inoiirat)}');\n",
    "plt.hist(innebrat, color='green', edgecolor='k', alpha = 0.6, bins=bins, label = f'[SII] 6716/6731: {len(innebrat)}');\n",
    "plt.axvline(oiimed, color='k', linestyle='--', label = f'Median: {round(oiimed, 2)}')\n",
    "plt.axvline(nebmed, color='green', alpha=0.5, linestyle='--', label = f'Median: {round(nebmed, 2)}')\n",
    "plt.title(f'[OII] fitted with {inamp_ratio} Amplitude guess')\n",
    "plt.ylabel('count')\n",
    "plt.xlabel('Flux Ratio')\n",
    "plt.legend()"
   ]
  },
  {
   "cell_type": "markdown",
   "metadata": {},
   "source": [
    "### Plot the [OII] and [SII] densities"
   ]
  },
  {
   "cell_type": "code",
   "execution_count": null,
   "metadata": {},
   "outputs": [],
   "source": [
    "inoiirat = oiine[~np.isnan(oiine)]\n",
    "innebrat = nebne[~np.isnan(nebne)]\n",
    "\n",
    "up = 1000\n",
    "inoiirat = inoiirat[inoiirat < up]\n",
    "innebrat = innebrat[innebrat < up]\n",
    "\n",
    "low = 0\n",
    "inoiirat = inoiirat[low < inoiirat]\n",
    "innebrat = innebrat[low < innebrat]\n",
    "\n",
    "oiimed = np.median(inoiirat)\n",
    "nebmed = np.median(innebrat)\n",
    "\n",
    "a=np.random.random(100)*0.5 #a uniform distribution\n",
    "b=1-np.random.normal(size=100)*0.1 #a normal distribution \n",
    "bins=np.histogram(np.hstack((inoiirat,innebrat)), bins=100)[1]; #get the bin edges\n",
    "\n",
    "plt.hist(inoiirat, color='k', edgecolor='k', alpha = 1, bins=bins, label = f'[OII] Density: {len(inoiirat)}');\n",
    "plt.hist(innebrat, color='green', edgecolor='k', alpha = 0.6, bins=bins, label = f'[SII] Density: {len(innebrat)}');\n",
    "plt.axvline(oiimed, color='k', linestyle='--', label = f'Median: {round(oiimed, 2)}')\n",
    "plt.axvline(nebmed, color='green', alpha=0.5, linestyle='--', label = f'Median: {round(nebmed, 2)}')\n",
    "plt.title(f'[OII] fitted with {inamp_ratio} Amplitude guess')\n",
    "plt.ylabel('count')\n",
    "plt.xlabel(r'Electron Density [cm$^{-3}$]')\n",
    "plt.legend()"
   ]
  },
  {
   "cell_type": "markdown",
   "metadata": {},
   "source": [
    "### Compare the [OII] velocities to the velocities in the Nebular catalog"
   ]
  },
  {
   "cell_type": "code",
   "execution_count": null,
   "metadata": {},
   "outputs": [],
   "source": [
    "havels = np.array([data[i]['HA6562_VEL'] for i in range(len(data))])\n",
    "niivels = np.array([data[i]['NII6583_VEL'] for i in range(len(data))]) \n",
    "oiiivels = np.array([data[i]['OIII5006_VEL'] for i in range(len(data))]) \n",
    "\n",
    "hamed = np.median(havels)\n",
    "niimed = np.median(niivels)\n",
    "oiiimed = np.median(oiiivels)\n",
    "oiimed = np.median(oii_velocity)\n",
    "\n",
    "havels = havels[~np.isnan(havels)]\n",
    "niivels = niivels[~np.isnan(niivels)]\n",
    "oiiivels = oiiivels[~np.isnan(oiiivels)]\n",
    "oii_velocity1 = oii_velocity[~np.isnan(oii_velocity)]\n",
    "\n",
    "a=np.random.random(100)*0.5 #a uniform distribution\n",
    "b=1-np.random.normal(size=100)*0.1 #a normal distribution \n",
    "bins=np.histogram(np.hstack((havels, niivels, oiiivels, oii_velocity)), bins=50)[1]; #get the bin edges\n",
    "\n",
    "plt.hist(havels, color='k', edgecolor='k', alpha = 0.6, bins=bins, label = r'[H$\\alpha$] Velocity:'f'{len(havels)}');\n",
    "plt.hist(niivels, color='green', edgecolor='k', alpha = 0.6, bins=bins, label = f'[NII] Velocity: {len(niivels)}');\n",
    "plt.hist(oiiivels, color='red', edgecolor='k', alpha = 0.6, bins=bins, label = f'[OIII] Velocity: {len(oiiivels)}');\n",
    "plt.hist(oii_velocity1, color='blue', edgecolor='k', alpha = 0.6, bins=bins, label = f'[OII] Velocity: {len(oii_velocity1)}');\n",
    "\n",
    "plt.axvline(hamed, color='k', linestyle='--', label = f'Median: {round(hamed, 2)} 'r'[$\\frac{km}{s}$]')\n",
    "plt.axvline(niimed, color='green', alpha=0.5, linestyle='--', label = f'Median: {round(niimed, 2)} 'r'[$\\frac{km}{s}$]')\n",
    "plt.axvline(oiiimed, color='red', alpha=0.5, linestyle='--', label = f'Median: {round(oiiimed, 2)} 'r'[$\\frac{km}{s}$]')\n",
    "plt.axvline(oiimed, color='blue', alpha=0.5, linestyle='--', label = f'Median: {round(oiimed, 2)} 'r'[$\\frac{km}{s}$]')\n",
    "\n",
    "plt.title(f'[OII] fitted with {inamp_ratio} Amplitude guess')\n",
    "plt.ylabel('count')\n",
    "plt.xlabel(r'Rotational Velocity [$\\frac{km}{s}$]')\n",
    "plt.legend()"
   ]
  },
  {
   "cell_type": "markdown",
   "metadata": {},
   "source": [
    "# Extract [OII]3727 (single feature) fluxes"
   ]
  },
  {
   "cell_type": "markdown",
   "metadata": {},
   "source": [
    "### The function to extract fluxes"
   ]
  },
  {
   "cell_type": "code",
   "execution_count": null,
   "metadata": {},
   "outputs": [],
   "source": [
    "def oii_3727(phdata, inspec, inwave, incube, ingalvel, inebv, insnval):\n",
    "\n",
    "    out_fluxes = np.zeros(len(phdata))\n",
    "    out_velocities = np.zeros(len(phdata))\n",
    "\n",
    "    broadening_gvar = gvar.gvar(1, 20)\n",
    "\n",
    "    S2 = pn.Atom('S', 2)\n",
    "    O2 = pn.Atom('O', 2)\n",
    "    temp = 10**4\n",
    "    fitshape = 'sinc'\n",
    "    OII3726 = Lines().get_line_cm1('[OII]3726')\n",
    "    OII3729 = Lines().get_line_cm1('[OII]3729')\n",
    "    for i in range(len(phdata)):\n",
    "        \n",
    "        inspectrum = inspec[i]\n",
    "        inspectrum[np.isnan(inspectrum)] = 0\n",
    "\n",
    "        wave3729 = 3728.815\n",
    "        c = 299792\n",
    "        red3729 = 1/((wave3729*(phdata[i]['HA6562_VEL']+galvel)/(c) + wave3729) * 10**-8)\n",
    "\n",
    "        n1 = [np.where(inwave > incube.params.filter_range[0])[0][0],np.where(inwave > red3729 - 175)[0][0]]\n",
    "        n2 = [np.where(inwave > red3729 + 175)[0][0], np.where(inwave > incube.params.filter_range[1])[0][0]]\n",
    "        noise = (np.mean(inspectrum[n1[0]:n1[1]]) + np.mean(inspectrum[n2[0]:n2[1]])) / 2\n",
    "        noisestd = (np.std(inspectrum[n1[0]:n1[1]]) + np.std(inspectrum[n2[0]:n2[1]])) / 2\n",
    "        inspectrum = (inspectrum) - (noise)\n",
    "\n",
    "        invel = phdata[i]['HA6562_VEL']+ingalvel   #Not being used rn because the mean of gvar is 0 and the input wave is already accounting for redshift\n",
    "        velocity_gvar = gvar.gvar(invel, 3)\n",
    "        \n",
    "        try:\n",
    "            fit = fit_lines_in_spectrum(inspectrum, [OII3729], \n",
    "                      step=incube.params.step, order=incube.params.order, nm_laser=incube.params.nm_laser, theta=corr2theta(incube.params.axis_corr), zpd_index=incube.params.zpd_index, \n",
    "                      wavenumber=True,\n",
    "                      apodization=1, \n",
    "                      fmodel=fitshape,\n",
    "                      pos_def=['1'],\n",
    "                      pos_cov=[velocity_gvar],\n",
    "                      amp_def=['1'], \n",
    "                      amp_guess=[1],\n",
    "                      )\n",
    "            \n",
    "            snr = fit['lines_params'][0][1] / noisestd\n",
    "\n",
    "            if snr > insnval:\n",
    "                flux = float(fit['flux'][0])\n",
    "                redline = 1/(float(fit['lines_params'][0][2]) * 10**-8)\n",
    "\n",
    "                R_V = 3.1\n",
    "                mwcorr = remove(extinction.odonnell94(np.array([redline]), inebv*R_V, R_V), flux)\n",
    "\n",
    "                A_V = phdata[i]['EBV'] * R_V\n",
    "                corrflux = remove(extinction.odonnell94(np.array([redline]), A_V, R_V), mwcorr)\n",
    "\n",
    "                out_fluxes[i] = corrflux[0]\n",
    "                out_velocities[i] = (((redline - wave3729)/wave3729)*c) - ingalvel\n",
    "            else:\n",
    "                out_fluxes[i] = np.nan\n",
    "                out_velocities[i] = np.nan\n",
    "        except:\n",
    "            out_fluxes[i] = np.nan\n",
    "            out_velocities[i] = np.nan\n",
    "            continue\n",
    "    \n",
    "    return out_fluxes, out_velocities"
   ]
  },
  {
   "cell_type": "markdown",
   "metadata": {},
   "source": [
    "### Run the code"
   ]
  },
  {
   "cell_type": "code",
   "execution_count": null,
   "metadata": {},
   "outputs": [],
   "source": [
    "oii3727, oii3727_velocity = oii_3727(data, sitspec, sitlam, cube, galvel, ebv, 3);\n",
    "\n",
    "print(f'There are {len(np.where(~np.isnan(oii3727))[0])} [OII]3727 flux measurements')"
   ]
  },
  {
   "cell_type": "markdown",
   "metadata": {},
   "source": [
    "### Compare [OII]3727 velocities"
   ]
  },
  {
   "cell_type": "code",
   "execution_count": null,
   "metadata": {},
   "outputs": [],
   "source": [
    "havels = np.array([data[i]['HA6562_VEL'] for i in range(len(data))])\n",
    "niivels = np.array([data[i]['NII6583_VEL'] for i in range(len(data))]) \n",
    "oiiivels = np.array([data[i]['OIII5006_VEL'] for i in range(len(data))]) \n",
    "\n",
    "havels = havels[~np.isnan(havels)]\n",
    "niivels = niivels[~np.isnan(niivels)]\n",
    "oiiivels = oiiivels[~np.isnan(oiiivels)]\n",
    "oii_velocity1 = oii3727_velocity[~np.isnan(oii3727_velocity)]\n",
    "\n",
    "hamed = np.median(havels)\n",
    "niimed = np.median(niivels)\n",
    "oiiimed = np.median(oiiivels)\n",
    "oiimed = np.median(oii_velocity1)\n",
    "\n",
    "a=np.random.random(100)*0.5 #a uniform distribution\n",
    "b=1-np.random.normal(size=100)*0.1 #a normal distribution \n",
    "bins=np.histogram(np.hstack((havels, niivels, oiiivels, oii_velocity1)), bins=50)[1]; #get the bin edges\n",
    "\n",
    "plt.hist(havels, color='k', edgecolor='k', alpha = 0.6, bins=bins, label = r'[H$\\alpha$] Velocity:'f'{len(havels)}');\n",
    "plt.hist(niivels, color='green', edgecolor='k', alpha = 0.6, bins=bins, label = f'[NII] Velocity: {len(niivels)}');\n",
    "plt.hist(oiiivels, color='red', edgecolor='k', alpha = 0.6, bins=bins, label = f'[OIII] Velocity: {len(oiiivels)}');\n",
    "plt.hist(oii_velocity1, color='blue', edgecolor='k', alpha = 0.6, bins=bins, label = f'[OII] Velocity: {len(oii_velocity1)}');\n",
    "\n",
    "plt.axvline(hamed, color='k', linestyle='--', label = f'Median: {round(hamed, 2)} 'r'[$\\frac{km}{s}$]')\n",
    "plt.axvline(niimed, color='green', alpha=0.5, linestyle='--', label = f'Median: {round(niimed, 2)} 'r'[$\\frac{km}{s}$]')\n",
    "plt.axvline(oiiimed, color='red', alpha=0.5, linestyle='--', label = f'Median: {round(oiiimed, 2)} 'r'[$\\frac{km}{s}$]')\n",
    "plt.axvline(oiimed, color='blue', alpha=0.5, linestyle='--', label = f'Median: {round(oiimed, 2)} 'r'[$\\frac{km}{s}$]')\n",
    "\n",
    "#plt.title(f'[OII] fitted with {inamp_ratio} Amplitude guess')\n",
    "plt.ylabel('count')\n",
    "plt.xlabel(r'Rotational Velocity [$\\frac{km}{s}$]')\n",
    "plt.legend()"
   ]
  },
  {
   "cell_type": "markdown",
   "metadata": {},
   "source": [
    "### Find the Temperature and Densities using getTemDen"
   ]
  },
  {
   "cell_type": "markdown",
   "metadata": {},
   "source": [
    "### Import atom class information"
   ]
  },
  {
   "cell_type": "code",
   "execution_count": null,
   "metadata": {},
   "outputs": [],
   "source": [
    "O1 = pn.Atom('O', 1)\n",
    "O2 = pn.Atom('O', 2)\n",
    "O3 = pn.Atom('O', 3)\n",
    "S2 = pn.Atom('S', 2)\n",
    "S3 = pn.Atom('S', 3)"
   ]
  },
  {
   "cell_type": "markdown",
   "metadata": {},
   "source": [
    "### Find [SII] Density for a region"
   ]
  },
  {
   "cell_type": "code",
   "execution_count": null,
   "metadata": {},
   "outputs": [],
   "source": [
    "reg = 73\n",
    "temp = 10**4\n",
    "\n",
    "S2ratio = data[reg]['SII6730_FLUX_CORR'] / data[reg]['SII6716_FLUX_CORR']\n",
    "density = S2.getTemDen(int_ratio=S2ratio, tem=temp, to_eval= 'L(6731)/L(6717)')   #wave1=6731, wave2=6717)\n",
    "density"
   ]
  },
  {
   "cell_type": "markdown",
   "metadata": {},
   "source": [
    "### Find [OII] temperature for a region"
   ]
  },
  {
   "cell_type": "code",
   "execution_count": null,
   "metadata": {},
   "outputs": [],
   "source": [
    "O2ratio = oii3727[reg] / (data[reg]['OII7319_FLUX_CORR_REFIT']+data[reg]['OII7330_FLUX_CORR_REFIT'])\n",
    "temp = O2.getTemDen(int_ratio=O2ratio, den=density, to_eval='(L(3726)+L(3729))/(L(7319)+L(7320)+L(7330)+L(7331))')\n",
    "temp"
   ]
  },
  {
   "cell_type": "markdown",
   "metadata": {},
   "source": [
    "### Find [SIII] temperatue for a region"
   ]
  },
  {
   "cell_type": "code",
   "execution_count": null,
   "metadata": {},
   "outputs": [],
   "source": [
    "S3ratio = data[reg]['SIII6312_FLUX_CORR_REFIT']/data[reg]['SIII9068_FLUX_CORR']\n",
    "temp_s3 = S3.getTemDen(int_ratio=S3ratio, den=density, to_eval='L(6312)/L(9068)')\n",
    "temp_s3"
   ]
  },
  {
   "cell_type": "markdown",
   "metadata": {},
   "source": [
    "### Compare to getCrossTemDen"
   ]
  },
  {
   "cell_type": "code",
   "execution_count": null,
   "metadata": {},
   "outputs": [],
   "source": [
    "density/ne, temp/te"
   ]
  },
  {
   "cell_type": "markdown",
   "metadata": {},
   "source": [
    "### Wrtie code to find the temperature and density in every region using getTemDen"
   ]
  },
  {
   "cell_type": "code",
   "execution_count": null,
   "metadata": {},
   "outputs": [],
   "source": [
    "oiite = np.zeros(len(data))\n",
    "oiine = np.zeros(len(data))\n",
    "\n",
    "tesiii = np.zeros(len(data))\n",
    "teoiii = np.zeros(len(data))\n",
    "nesiii = np.zeros(len(data))\n",
    "\n",
    "\n",
    "for i in range(len(data)):\n",
    "    try: \n",
    "        S2ratio = data[i]['SII6730_FLUX_CORR'] / data[i]['SII6716_FLUX_CORR']\n",
    "        oiine[i] = S2.getTemDen(int_ratio=S2ratio, tem=temp, to_eval= 'L(6731)/L(6717)')\n",
    "        O2ratio = oii3727[i] / (data[i]['OII7319_FLUX_CORR_REFIT']+data[i]['OII7330_FLUX_CORR_REFIT'])\n",
    "        oiite[i] = O2.getTemDen(int_ratio=O2ratio, den=density, to_eval='(L(3726) + L(3729)) / (L(7319) + L(7320) + L(7330) + L(7331))')\n",
    "    except: \n",
    "        oiite[i], oiine[i] = np.nan, np.nan\n",
    "    \n",
    "    try: \n",
    "        nesiii[i] = oiine[i]\n",
    "        S3ratio = data[i]['SIII6312_FLUX_CORR_REFIT']/data[i]['SIII9068_FLUX_CORR']\n",
    "        tesiii[i] = S3.getTemDen(int_ratio=S3ratio, den=density, to_eval='L(6312)/L(9068)') \n",
    "\n",
    "        if tesiii[i] < 14000:\n",
    "            teoiii[i] = 0.7092 * tesiii[i] + 3609.9\n",
    "        else: \n",
    "            teoiii[i] = np.nan\n",
    "    except: \n",
    "        tesiii[i], nesiii[i] = np.nan, np.nan"
   ]
  },
  {
   "cell_type": "markdown",
   "metadata": {},
   "source": [
    "# Metallicity"
   ]
  },
  {
   "cell_type": "markdown",
   "metadata": {},
   "source": [
    "### Import atom class information and ICF"
   ]
  },
  {
   "cell_type": "code",
   "execution_count": null,
   "metadata": {},
   "outputs": [],
   "source": [
    "icf = pn.ICF()\n",
    "O1 = pn.Atom('O', 1)\n",
    "O2 = pn.Atom('O', 2)\n",
    "O3 = pn.Atom('O', 3)\n",
    "icf_list = ['Ial06_16']"
   ]
  },
  {
   "cell_type": "markdown",
   "metadata": {},
   "source": [
    "### Find the [SII] densities, [OII] temperatures, [SII] densities (with [SIII]), and [OIII] temperatures"
   ]
  },
  {
   "cell_type": "code",
   "execution_count": null,
   "metadata": {},
   "outputs": [],
   "source": [
    "oiite_cross = np.zeros(len(data))\n",
    "oiine_cross = np.zeros(len(data))\n",
    "\n",
    "tesiii_cross = np.zeros(len(data))\n",
    "teoiii_cross = np.zeros(len(data))\n",
    "nesiii_cross = np.zeros(len(data))\n",
    "\n",
    "\n",
    "for i in range(len(data)):\n",
    "    \n",
    "    try: \n",
    "        oiite_cross[i], oiine_cross[i] = diags.getCrossTemDen(diag_tem = '[OII] b3727/b7325', diag_den = '[SII] 6731/6716', \n",
    "                                                value_tem = (oii3727[i])/(data[i]['OII7319_FLUX_CORR_REFIT']+data[i]['OII7330_FLUX_CORR_REFIT']), \n",
    "                                                value_den = data[i]['SII6730_FLUX_CORR']/data[i]['SII6716_FLUX_CORR'], \n",
    "                                                guess_tem = 10**4)\n",
    "    except: \n",
    "        oiite_cross[i], oiine_cross[i] = np.nan, np.nan\n",
    "    \n",
    "    try: \n",
    "        tesiii_cross[i], nesiii_cross[i] = diags.getCrossTemDen(diag_tem = '[SIII] 6312/9069', diag_den = '[SII] 6731/6716', \n",
    "                                                    value_tem = data[i]['SIII6312_FLUX_CORR_REFIT']/data[i]['SIII9068_FLUX_CORR'], \n",
    "                                                    value_den = data[i]['SII6730_FLUX_CORR']/data[i]['SII6716_FLUX_CORR'], \n",
    "                                                    guess_tem = 10**4)\n",
    "\n",
    "        if tesiii_cross[i] < 14000:\n",
    "            teoiii_cross[i] = 0.7092 * tesiii_cross[i] + 3609.9\n",
    "        else: \n",
    "            teoiii_cross[i] = np.nan\n",
    "    except: \n",
    "        tesiii_cross[i], nesiii_cross[i] = np.nan, np.nan"
   ]
  },
  {
   "cell_type": "markdown",
   "metadata": {},
   "source": [
    "### Plot [OII] Temperatures and [SII] Densities"
   ]
  },
  {
   "cell_type": "code",
   "execution_count": null,
   "metadata": {},
   "outputs": [],
   "source": [
    "x = oiine\n",
    "y = oiite\n",
    "\n",
    "fig = plt.figure(figsize=(5, 5))\n",
    "\n",
    "gs = fig.add_gridspec(2, 2,  width_ratios=(4, 1), height_ratios=(1, 4),\n",
    "                      left=0.1, right=0.9, bottom=0.1, top=0.9,\n",
    "                      wspace=0.0, hspace=0.0)\n",
    "\n",
    "ax = fig.add_subplot(gs[1, 0])\n",
    "ax_histx = fig.add_subplot(gs[0, 0], sharex=ax)\n",
    "ax_histy = fig.add_subplot(gs[1, 1], sharey=ax)\n",
    "\n",
    "# Cmap info\n",
    "oii_where = np.where(~np.isnan(y))[0]\n",
    "\n",
    "snr_7319 = np.array([data[i]['OII7319_FLUX_CORR_REFIT'][0]/data[i]['OII7319_FLUX_CORR_REFIT_ERR'][0] for i in range(len(data))])\n",
    "snr_7330 = np.array([data[i]['OII7330_FLUX_CORR_REFIT'][0]/data[i]['OII7330_FLUX_CORR_REFIT_ERR'][0] for i in range(len(data))])\n",
    "\n",
    "snr_7319 = snr_7319[oii_where]\n",
    "snr_7330 = snr_7330[oii_where]\n",
    "\n",
    "# the scatter plot\n",
    "cax = ax.scatter(x[oii_where], y[oii_where], s=100, marker='.', c=snr_7319, cmap='bwr', edgecolors='k')\n",
    "ax.set_xlim([0, None])\n",
    "ax.set_ylim([None, None])\n",
    "#fig.suptitle('NII derived Temperature versus SII derived Density')\n",
    "ax.set_xlabel('[SII] Density [$cm^{-3}$]')\n",
    "ax.set_ylabel('[OII] Temperature [K]')\n",
    "#ax.set_yscale('log')\n",
    "\n",
    "# the histograms\n",
    "ax_histx.hist(x, bins=60, color='blue');\n",
    "ax_histy.hist(y, bins=15,color='blue', orientation='horizontal');\n",
    "ax_histx.tick_params(axis=\"x\", labelbottom=False)\n",
    "ax_histy.tick_params(axis=\"y\", labelleft=False)\n",
    "ax.tick_params(axis=\"y\", labelright=False)\n",
    "\n",
    "cbar = fig.colorbar(cax, label='[OII]7320 SNR')\n",
    "plt.show()"
   ]
  },
  {
   "cell_type": "markdown",
   "metadata": {},
   "source": [
    "### Test an [OII] metallicity calculation"
   ]
  },
  {
   "cell_type": "code",
   "execution_count": null,
   "metadata": {},
   "outputs": [],
   "source": [
    "reg = 73\n",
    "\n",
    "OII = O2.getIonAbundance(int_ratio = oii3727[reg]+data[reg]['OII7319_FLUX_CORR_REFIT']+data[reg]['OII7330_FLUX_CORR_REFIT'], tem = oiite[reg], den= oiine[reg], \n",
    "                         to_eval='L(3726)+L(3729)+L(7319)+L(7320)+L(7330)+L(7331)', Hbeta = data[reg]['HB4861_FLUX_CORR'])\n",
    "OIII = O3.getIonAbundance(int_ratio = data[reg]['OIII5006_FLUX_CORR'], tem = teoiii[reg], den= nesiii[reg], \n",
    "                          to_eval='L(5007)', Hbeta = data[reg]['HB4861_FLUX_CORR'])\n",
    "            \n",
    "abunlist = {'O2': OII, 'O3': OIII}\n",
    "abundance = icf.getElemAbundance(abunlist, icf_list)\n",
    "met = 12 + np.log10(abundance['Ial06_16'])\n",
    "met[0]"
   ]
  },
  {
   "cell_type": "markdown",
   "metadata": {},
   "source": [
    "### Use the [SII] temperatures/densities and the [OII]3727 line to calculate metallicity"
   ]
  },
  {
   "cell_type": "code",
   "execution_count": null,
   "metadata": {},
   "outputs": [],
   "source": [
    "mets = np.zeros(len(data))\n",
    "den_cutoff = 50\n",
    "\n",
    "for i in range(len(data)):\n",
    "    if oiine[i] > den_cutoff:\n",
    "        OII = O2.getIonAbundance(int_ratio = oii3727[i]+data[i]['OII7319_FLUX_CORR_REFIT']+data[i]['OII7330_FLUX_CORR_REFIT'],\n",
    "                            tem = oiite[i], den= oiine[i], \n",
    "                            to_eval='L(3726)+L(3729)+L(7319)+L(7320)+L(7330)+L(7331)', Hbeta = data[i]['HB4861_FLUX_CORR'])\n",
    "\n",
    "        OIII = O3.getIonAbundance(int_ratio = data[i]['OIII5006_FLUX_CORR'],\n",
    "                              tem = teoiii[i], den= nesiii[i], \n",
    "                              to_eval='L(5007)', Hbeta = data[i]['HB4861_FLUX_CORR'])\n",
    "    else:\n",
    "        OII, OIII = np.nan, np.nan\n",
    "            \n",
    "    abunlist = {'O2': OII, 'O3': OIII}\n",
    "    abundance = icf.getElemAbundance(abunlist, icf_list)\n",
    "    mets[i] = 12 + np.log10(abundance['Ial06_16'])"
   ]
  },
  {
   "cell_type": "markdown",
   "metadata": {},
   "source": [
    "### Create a list of Radii"
   ]
  },
  {
   "cell_type": "code",
   "execution_count": null,
   "metadata": {},
   "outputs": [],
   "source": [
    "distdic = {'NGC4254': 13.1 , 'NGC4535': 16.60  , 'NGC3351': 10.0, 'NGC2835': 10.4, 'NGC0628':7.5}\n",
    "dist = distdic[galaxy]\n",
    "kpc = data['deproj_dist'] / 206265 * (dist * 1000)\n",
    "nkpc = np.array([kpc[i] for i in range(len(kpc))])"
   ]
  },
  {
   "cell_type": "markdown",
   "metadata": {},
   "source": [
    "### Make lists and polynomial fits of data to be plotted"
   ]
  },
  {
   "cell_type": "code",
   "execution_count": null,
   "metadata": {},
   "outputs": [],
   "source": [
    "s = np.array([data[i]['met_scal'] for i in range(len(data)) if np.isnan(data[i]['met_scal']) == False])\n",
    "scals = np.array([data[i]['met_scal'] for i in range(len(data))])\n",
    "scal = np.polyfit(nkpc[np.where(np.isnan(data['met_scal']) == False)], s, 1)\n",
    "scalfunc = np.poly1d(scal)\n",
    "\n",
    "dirc = np.array([mets[i] for i in range(len(data)) if np.isnan(mets[i]) == False])\n",
    "direct = np.polyfit(nkpc[np.where(~np.isnan(mets))[0]], dirc, 1)\n",
    "dirfunc = np.poly1d(direct)\n",
    "\n",
    "seq = np.linspace(-3, 15, num = 20)"
   ]
  },
  {
   "cell_type": "markdown",
   "metadata": {},
   "source": [
    "### Plot the Metallicity results"
   ]
  },
  {
   "cell_type": "code",
   "execution_count": null,
   "metadata": {},
   "outputs": [],
   "source": [
    "fig = plt.figure()\n",
    "fig.set_size_inches(8, 4)\n",
    "\n",
    "plt.scatter(nkpc, scals, s=5, marker='.', color='orange', label = f'Scal-PG16 Nebular catalog: {len(s)}')\n",
    "plt.plot(seq, scalfunc(seq), c='orange',  linestyle=\"--\", label=f'Scal-PG16: y = {round(scalfunc[1],3)}x + {round(scalfunc[0],3)}')\n",
    "\n",
    "plt.scatter(nkpc, mets, s=25, marker='.', color='blue', label = f'Direct: {len(dirc)}')\n",
    "plt.plot(seq, dirfunc(seq), c='blue', linestyle=\"--\", label=f'Direct: y = {round(dirfunc[1],3)}x + {round(dirfunc[0],3)}')\n",
    "\n",
    "plt.xlabel('Galactocentric Radius [kpc]')\n",
    "plt.ylabel(r'Metallicity [12 + log(O/H)]')\n",
    "#plt.ylim(8, 8.5)\n",
    "plt.xlim(0, np.max(nkpc)*1.05)\n",
    "\n",
    "plt.title(f'Metallicity calculations in {galaxy}')\n",
    "plt.legend(bbox_to_anchor=(1.43, 0.7), fontsize=\"9\",loc='center right');\n",
    "plt.figtext(1.0905, 0.3, f\"Direct STD: {round(np.std(dirc), 3)} \\n Scal-PG16 Nebular catalog STD: {round(np.std(s),3)}\", ha=\"center\", bbox={\"facecolor\":\"white\", \"alpha\":0.5, \"pad\":5})"
   ]
  },
  {
   "cell_type": "markdown",
   "metadata": {},
   "source": [
    "### Plot only the [NII] derived metallicities with a color scale for the [OII]3727 fluxes"
   ]
  },
  {
   "cell_type": "code",
   "execution_count": null,
   "metadata": {},
   "outputs": [],
   "source": [
    "fig = plt.figure()\n",
    "fig.set_size_inches(8, 4)\n",
    "\n",
    "color_num = 4\n",
    "oii_where = np.where(~np.isnan(mets))[0]\n",
    "\n",
    "hbeta = np.array([data[i]['HB4861_FLUX_CORR'] for i in range(len(data))])\n",
    "snr_7319 = np.array([data[i]['OII7319_FLUX_CORR_REFIT'][0]/data[i]['OII7319_FLUX_CORR_REFIT_ERR'][0] for i in range(len(data))])\n",
    "snr_7330 = np.array([data[i]['OII7330_FLUX_CORR_REFIT'][0]/data[i]['OII7330_FLUX_CORR_REFIT_ERR'][0] for i in range(len(data))])\n",
    "density = np.array([oiine[i] for i in range(len(data))])\n",
    "\n",
    "hbeta_vals = np.log10(hbeta[oii_where])\n",
    "snr_7319 = snr_7319[oii_where]\n",
    "snr_7330 = snr_7330[oii_where]\n",
    "density = density[oii_where]\n",
    "invals_dic = {1:hbeta_vals, 2:snr_7319, 3:snr_7330, 4:density}\n",
    "\n",
    "plt.scatter(nkpc, scals, s=5, marker='.', color='orange', alpha=0.5, label = f'Scal-PG16 Nebular catalog: {len(s)}')\n",
    "plt.plot(seq, scalfunc(seq), c='orange',  linestyle=\"--\", label=f'Scal-PG16: y = {round(scalfunc[1],3)}x + {round(scalfunc[0],3)}')\n",
    "\n",
    "plt.scatter(nkpc[oii_where], mets[oii_where], s=100, marker='.', c=invals_dic[color_num], cmap='bwr', edgecolors='k', label = f'Direct: {len(oii_where)}')\n",
    "plt.plot(seq, dirfunc(seq), c='k', linestyle=\"--\", label=f'Direct: y = {round(dirfunc[1],3)}x + {round(dirfunc[0],3)}')\n",
    "\n",
    "plt.xlabel('Galactocentric Radius [kpc]')\n",
    "plt.ylabel(r'Metallicity [12 + log(O/H)]')\n",
    "plt.ylim(8.25, 9.4)\n",
    "plt.xlim(0, np.max(nkpc)*1.05)\n",
    "\n",
    "plt.title(f'Metallicity calculations in {galaxy}')\n",
    "plt.legend(bbox_to_anchor=(1.8, 0.65), fontsize=\"9\",loc='center right');\n",
    "plt.figtext(1.085, 0.325, f\"Direct STD: {round(np.std(dirc), 3)} \\n Scal-PG16 Nebular catalog STD: {round(np.std(s),3)}\", ha=\"center\", bbox={\"facecolor\":\"white\", \"alpha\":0.5, \"pad\":5})\n",
    "\n",
    "label_dict = {1:r'H$\\beta$ [log($\\frac{erg}{cm^{2} \\cdot s}$)]', 2:'SNR of [OII]7320', 3:'SNR of [OII]7330', 4:r'[SII] Density [$cm^{-3}$]'}\n",
    "label_in = label_dict[color_num]\n",
    "plt.colorbar(label=label_in)"
   ]
  },
  {
   "cell_type": "markdown",
   "metadata": {},
   "source": [
    "### Comparing [OII]3727 with [OII]3726 + 3729"
   ]
  },
  {
   "cell_type": "code",
   "execution_count": null,
   "metadata": {},
   "outputs": [],
   "source": [
    "oii_combined = np.array([data[i]['OII3726_FLUX_CORR'][0] + data[i]['OII3729_FLUX_CORR'][0] for i in range(len(data))])\n",
    "plot_list = np.array([i for i in range(len(data)) if ~np.isnan(oii_combined[i]) and ~np.isnan(oii3727[i])])\n",
    "\n",
    "plt.scatter(oii3727, oii_combined, marker='.', s=50, c='k', label=f'count: {len(plot_list)}')\n",
    "\n",
    "plt.plot(np.linspace(1, 10**11, 10), np.linspace(1, 10**11, 10), c='k', label='1-to-1 line')\n",
    "\n",
    "plt.title(f'[OII]3726,3729 versus [OII]3727 Flux comparison in {galaxy}')\n",
    "plt.ylabel('[OII]3726 + [OII]3729')\n",
    "plt.xlabel('[OII]3729')\n",
    "lowb = 10**4\n",
    "upb = 10**8.6\n",
    "plt.xlim(lowb, upb)\n",
    "plt.ylim(lowb, upb)\n",
    "plt.xscale('log')\n",
    "plt.yscale('log')\n",
    "plt.legend()"
   ]
  },
  {
   "cell_type": "markdown",
   "metadata": {},
   "source": [
    "# Comparing getCrossTemDen and getTemDen results"
   ]
  },
  {
   "cell_type": "markdown",
   "metadata": {},
   "source": [
    "### Plot [OII] temperatues"
   ]
  },
  {
   "cell_type": "code",
   "execution_count": null,
   "metadata": {},
   "outputs": [],
   "source": [
    "x = oiite\n",
    "y = oiite_cross\n",
    "\n",
    "fig = plt.figure(figsize=(5, 5))\n",
    "\n",
    "gs = fig.add_gridspec(2, 2,  width_ratios=(4, 1), height_ratios=(1, 4),\n",
    "                      left=0.1, right=0.9, bottom=0.1, top=0.9,\n",
    "                      wspace=0.0, hspace=0.0)\n",
    "\n",
    "ax = fig.add_subplot(gs[1, 0])\n",
    "ax_histx = fig.add_subplot(gs[0, 0], sharex=ax)\n",
    "ax_histy = fig.add_subplot(gs[1, 1], sharey=ax)\n",
    "\n",
    "# Cmap info\n",
    "oii_where = np.where(~np.isnan(y))[0]\n",
    "\n",
    "snr_7319 = np.array([data[i]['OII7319_FLUX_CORR_REFIT'][0]/data[i]['OII7319_FLUX_CORR_REFIT_ERR'][0] for i in range(len(data))])\n",
    "snr_7330 = np.array([data[i]['OII7330_FLUX_CORR_REFIT'][0]/data[i]['OII7330_FLUX_CORR_REFIT_ERR'][0] for i in range(len(data))])\n",
    "\n",
    "snr_7319 = snr_7319[oii_where]\n",
    "snr_7330 = snr_7330[oii_where]\n",
    "\n",
    "# the scatter plot\n",
    "cax = ax.scatter(x[oii_where], y[oii_where], s=100, marker='.', c=snr_7319, cmap='bwr', edgecolors='k')\n",
    "ax.set_xlim([5000, 10000])\n",
    "ax.set_ylim([5000, 10000])\n",
    "ax.plot(np.linspace(0, 10**6, 10), np.linspace(0, 10**6, 10), color='k')\n",
    "#fig.suptitle('NII derived Temperature versus SII derived Density')\n",
    "ax.set_xlabel('[OII] Temperature [K] from getTemDen')\n",
    "ax.set_ylabel('[OII] Temperature [K] from getCrossTemDen')\n",
    "#ax.set_yscale('log')\n",
    "\n",
    "# the histograms\n",
    "ax_histx.hist(x, bins=60, color='blue');\n",
    "ax_histy.hist(y, bins=15,color='blue', orientation='horizontal');\n",
    "ax_histx.tick_params(axis=\"x\", labelbottom=False)\n",
    "ax_histy.tick_params(axis=\"y\", labelleft=False)\n",
    "ax.tick_params(axis=\"y\", labelright=False)\n",
    "\n",
    "cbar = fig.colorbar(cax, label='[OII]7320 SNR')\n",
    "plt.show()"
   ]
  },
  {
   "cell_type": "markdown",
   "metadata": {},
   "source": [
    "### Plot [SII] Densities"
   ]
  },
  {
   "cell_type": "code",
   "execution_count": null,
   "metadata": {},
   "outputs": [],
   "source": [
    "x = oiine\n",
    "y = oiine_cross\n",
    "\n",
    "fig = plt.figure(figsize=(5, 5))\n",
    "\n",
    "gs = fig.add_gridspec(2, 2,  width_ratios=(4, 1), height_ratios=(1, 4),\n",
    "                      left=0.1, right=0.9, bottom=0.1, top=0.9,\n",
    "                      wspace=0.0, hspace=0.0)\n",
    "\n",
    "ax = fig.add_subplot(gs[1, 0])\n",
    "ax_histx = fig.add_subplot(gs[0, 0], sharex=ax)\n",
    "ax_histy = fig.add_subplot(gs[1, 1], sharey=ax)\n",
    "\n",
    "# Cmap info\n",
    "oii_where = np.where(~np.isnan(y))[0]\n",
    "\n",
    "snr_7319 = np.array([data[i]['OII7319_FLUX_CORR_REFIT'][0]/data[i]['OII7319_FLUX_CORR_REFIT_ERR'][0] for i in range(len(data))])\n",
    "snr_7330 = np.array([data[i]['OII7330_FLUX_CORR_REFIT'][0]/data[i]['OII7330_FLUX_CORR_REFIT_ERR'][0] for i in range(len(data))])\n",
    "\n",
    "snr_7319 = snr_7319[oii_where]\n",
    "snr_7330 = snr_7330[oii_where]\n",
    "\n",
    "# the scatter plot\n",
    "cax = ax.scatter(x[oii_where], y[oii_where], s=100, marker='.', c=snr_7319, cmap='bwr', edgecolors='k')\n",
    "ax.set_xlim([0, None])\n",
    "ax.set_ylim([0, None])\n",
    "ax.plot(np.linspace(0, 10**6, 10), np.linspace(0, 10**6, 10), color='k')\n",
    "#fig.suptitle('NII derived Temperature versus SII derived Density')\n",
    "ax.set_xlabel(r'[SII] Density [cm$^{-3}$] from getTemDen')\n",
    "ax.set_ylabel(r'[SII] Density [cm$^{-3}$] from getCrossTemDen')\n",
    "#ax.set_yscale('log')\n",
    "\n",
    "# the histograms\n",
    "ax_histx.hist(x, bins=60, color='blue');\n",
    "ax_histy.hist(y, bins=15,color='blue', orientation='horizontal');\n",
    "ax_histx.tick_params(axis=\"x\", labelbottom=False)\n",
    "ax_histy.tick_params(axis=\"y\", labelleft=False)\n",
    "ax.tick_params(axis=\"y\", labelright=False)\n",
    "\n",
    "cbar = fig.colorbar(cax, label='[OII]7320 SNR')\n",
    "plt.show()"
   ]
  },
  {
   "cell_type": "markdown",
   "metadata": {},
   "source": [
    "### Plot [OIII] Temperatures"
   ]
  },
  {
   "cell_type": "code",
   "execution_count": null,
   "metadata": {},
   "outputs": [],
   "source": [
    "x = teoiii\n",
    "y = teoiii_cross\n",
    "\n",
    "fig = plt.figure(figsize=(5, 5))\n",
    "\n",
    "gs = fig.add_gridspec(2, 2,  width_ratios=(4, 1), height_ratios=(1, 4),\n",
    "                      left=0.1, right=0.9, bottom=0.1, top=0.9,\n",
    "                      wspace=0.0, hspace=0.0)\n",
    "\n",
    "ax = fig.add_subplot(gs[1, 0])\n",
    "ax_histx = fig.add_subplot(gs[0, 0], sharex=ax)\n",
    "ax_histy = fig.add_subplot(gs[1, 1], sharey=ax)\n",
    "\n",
    "# Cmap info\n",
    "oii_where = np.where(~np.isnan(y))[0]\n",
    "\n",
    "snr_7319 = np.array([data[i]['OII7319_FLUX_CORR_REFIT'][0]/data[i]['OII7319_FLUX_CORR_REFIT_ERR'][0] for i in range(len(data))])\n",
    "snr_7330 = np.array([data[i]['OII7330_FLUX_CORR_REFIT'][0]/data[i]['OII7330_FLUX_CORR_REFIT_ERR'][0] for i in range(len(data))])\n",
    "\n",
    "snr_7319 = snr_7319[oii_where]\n",
    "snr_7330 = snr_7330[oii_where]\n",
    "\n",
    "# the scatter plot\n",
    "cax = ax.scatter(x[oii_where], y[oii_where], s=100, marker='.', c=snr_7319, cmap='bwr', edgecolors='k')\n",
    "ax.set_xlim([7500, None])\n",
    "ax.set_ylim([7500, None])\n",
    "ax.plot(np.linspace(0, 10**6, 10), np.linspace(0, 10**6, 10), color='k')\n",
    "#fig.suptitle('NII derived Temperature versus SII derived Density')\n",
    "ax.set_xlabel('[OIII] Temperature [K] from getTemDen')\n",
    "ax.set_ylabel('[OIII] Temperature [K] from getCrossTemDen')\n",
    "#ax.set_yscale('log')\n",
    "\n",
    "# the histograms\n",
    "ax_histx.hist(x, bins=60, color='blue');\n",
    "ax_histy.hist(y, bins=15,color='blue', orientation='horizontal');\n",
    "ax_histx.tick_params(axis=\"x\", labelbottom=False)\n",
    "ax_histy.tick_params(axis=\"y\", labelleft=False)\n",
    "ax.tick_params(axis=\"y\", labelright=False)\n",
    "\n",
    "cbar = fig.colorbar(cax, label='[OII]7320 SNR')\n",
    "plt.show()"
   ]
  },
  {
   "cell_type": "markdown",
   "metadata": {},
   "source": [
    "# Make an emission grid with PyNeb"
   ]
  },
  {
   "cell_type": "markdown",
   "metadata": {},
   "source": [
    "### Make the emission grid object for the [OII] ion"
   ]
  },
  {
   "cell_type": "code",
   "execution_count": null,
   "metadata": {},
   "outputs": [],
   "source": [
    "O2_EG = pn.EmisGrid(elem='O', spec=2, n_tem=500, n_den=500, \n",
    "                    tem_min=6250., tem_max=7000., den_min=10., \n",
    "                    den_max=100, restore_file=None, atomObj=None)"
   ]
  },
  {
   "cell_type": "markdown",
   "metadata": {},
   "source": [
    "### Get the emissivity grid of a combination of lines"
   ]
  },
  {
   "cell_type": "code",
   "execution_count": null,
   "metadata": {},
   "outputs": [],
   "source": [
    "O2_Te = O2_EG.getGrid(to_eval='(L(3726)+L(3729))/(L(7319)+L(7320)+L(7330)+L(7331))')"
   ]
  },
  {
   "cell_type": "markdown",
   "metadata": {},
   "source": [
    "### Plot the image of the emssion grid"
   ]
  },
  {
   "cell_type": "code",
   "execution_count": null,
   "metadata": {},
   "outputs": [],
   "source": [
    "O2_EG.plotImage(to_eval='(L(3726)+L(3729))/(L(7319)+L(7320)+L(7330)+L(7331))')"
   ]
  },
  {
   "cell_type": "markdown",
   "metadata": {},
   "source": [
    "### Plot the contours of the emission grid"
   ]
  },
  {
   "cell_type": "code",
   "execution_count": null,
   "metadata": {},
   "outputs": [],
   "source": [
    "f, ax = plt.subplots(figsize=(6,5))\n",
    "O2_EG.plotContours(to_eval='(L(3726)+L(3729))/(L(7319)+L(7320)+L(7330)+L(7331))', ax=ax)\n",
    "#f.savefig('OIII_diag.pdf')"
   ]
  },
  {
   "cell_type": "markdown",
   "metadata": {},
   "source": [
    "### Make a list of [OII] Temperature sensitive line ratios"
   ]
  },
  {
   "cell_type": "code",
   "execution_count": null,
   "metadata": {},
   "outputs": [],
   "source": [
    "O2ratio_list = np.array([oii3727[i] / (data[i]['OII7319_FLUX_CORR_REFIT']+data[i]['OII7330_FLUX_CORR_REFIT']) for i in range(len(data)) if ~np.isnan(oii3727[i] / (data[i]['OII7319_FLUX_CORR_REFIT']+data[i]['OII7330_FLUX_CORR_REFIT']))])"
   ]
  },
  {
   "cell_type": "markdown",
   "metadata": {},
   "source": [
    "### Make a histogram of [OII] flux ratios (logarithmic)"
   ]
  },
  {
   "cell_type": "code",
   "execution_count": null,
   "metadata": {},
   "outputs": [],
   "source": [
    "plt.hist(np.log10(O2ratio_list), color = 'red', alpha=0.7, bins=25);\n",
    "plt.axvline(np.median(np.log10(O2ratio_list)), color='k', linestyle='--', label=f'Median: {round(np.median(np.log10(O2ratio_list)), 3)}')\n",
    "plt.xlabel(r'$log(\\frac{[OII]3727}{[OII]7320 + [OII]7320})$')\n",
    "plt.legend()"
   ]
  },
  {
   "cell_type": "markdown",
   "metadata": {},
   "source": [
    "### Make a histogram of [OII] flux ratios"
   ]
  },
  {
   "cell_type": "code",
   "execution_count": null,
   "metadata": {},
   "outputs": [],
   "source": [
    "plt.hist(O2ratio_list, color = 'red', alpha=0.7, bins=25);\n",
    "plt.axvline(np.median(O2ratio_list), color='k', linestyle='--', label=f'Median: {round(np.median(O2ratio_list), 3)}')\n",
    "plt.xlabel(r'$log(\\frac{[OII]3727}{[OII]7320 + [OII]7320})$')\n",
    "plt.legend()"
   ]
  }
 ],
 "metadata": {
  "kernelspec": {
   "display_name": "orb3",
   "language": "python",
   "name": "python3"
  },
  "language_info": {
   "codemirror_mode": {
    "name": "ipython",
    "version": 3
   },
   "file_extension": ".py",
   "mimetype": "text/x-python",
   "name": "python",
   "nbconvert_exporter": "python",
   "pygments_lexer": "ipython3",
   "version": "3.7.16"
  },
  "orig_nbformat": 4
 },
 "nbformat": 4,
 "nbformat_minor": 2
}
