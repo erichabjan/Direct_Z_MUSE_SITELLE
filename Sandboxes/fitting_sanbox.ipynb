{
 "cells": [
  {
   "cell_type": "code",
   "execution_count": null,
   "metadata": {},
   "outputs": [],
   "source": [
    "import numpy as np\n",
    "import matplotlib.pyplot as plt\n",
    "from astropy.table import Table, join, QTable, vstack\n",
    "import astropy.units as u\n",
    "import sys\n",
    "import pyneb as pn\n",
    "from multiprocessing import Pool\n",
    "import multiprocessing as mp\n",
    "import math\n",
    "from astropy.io import fits\n",
    "from orcs.process import SpectralCube\n",
    "\n",
    "from astropy.nddata import NDData, Cutout2D\n",
    "from astropy.wcs import WCS\n",
    "\n",
    "import astropy.units as u\n",
    "from astropy.coordinates import SkyCoord\n",
    "\n",
    "from reproject import reproject_interp\n",
    "from regions import PixCoord\n",
    "\n",
    "import pylab as pl\n",
    "\n",
    "from scipy.optimize import curve_fit\n",
    "from scipy.integrate import quad, simpson\n",
    "\n",
    "from orb.fit import fit_lines_in_spectrum\n",
    "from orb.utils.spectrum import corr2theta, amp_ratio_from_flux_ratio\n",
    "from orb.core import Lines\n",
    "import gvar\n",
    "import orb\n",
    "\n",
    "import extinction\n",
    "from extinction import apply, remove"
   ]
  },
  {
   "cell_type": "markdown",
   "metadata": {},
   "source": [
    "### Import data"
   ]
  },
  {
   "cell_type": "code",
   "execution_count": null,
   "metadata": {},
   "outputs": [],
   "source": [
    "galaxynum = 5\n",
    "galdic = {1:'NGC4254', 2:'NGC4535', 3:'NGC3351', 4:'NGC2835', 5:'NGC0628'}  #There is no SITELLE data for NGC 4254, NGC 2835 has the best data \n",
    "galaxy = galdic[galaxynum]\n",
    "print(galaxy)\n",
    "\n",
    "galveldic = {'NGC4254': 2388 , 'NGC4535': 1954  , 'NGC3351': 775, 'NGC2835': 867, 'NGC0628':651}\n",
    "galvel = galveldic[galaxy]\n",
    "galebv = {'NGC4254': 0.0334 , 'NGC4535': 0.0168 , 'NGC3351': 0.0239, 'NGC2835': 0.0859, 'NGC0628': 0.0607}\n",
    "ebv = galebv[galaxy]\n",
    "\n",
    "infile = open(\"/home/habjan/jupfiles/data/Nebulae_catalogue_v3.fits\",'rb')\n",
    "hdul = Table.read(infile)\n",
    "musedata = hdul[hdul['gal_name'] == f'{galaxy}']\n",
    "\n",
    "hdul = fits.open(f'/home/habjan/jupfiles/data/{galaxy}_SITELLE_Spectra.fits')\n",
    "\n",
    "lam = hdul[0].data\n",
    "spec = hdul[1].data - hdul[2].data\n",
    "\n",
    "infile = fits.open(f'/home/habjan/jupfiles/data/Nebulae_Catalogue_DR2_native_with_OII.fits')\n",
    "hdul = Table.read(infile)\n",
    "fabian = hdul[hdul['gal_name'] == f'{galaxy}']\n",
    "\n",
    "infile = f\"/home/habjan/jupfiles/data/{galaxy}_cube.hdf5\"\n",
    "cube = SpectralCube(infile)\n",
    "\n",
    "# WCS info for SITELLE\n",
    "hdul = fits.open(f\"/home/habjan/jupfiles/data/{galaxy}_cube.fits\")\n",
    "header = hdul[0].header\n",
    "wcs = WCS(header,naxis=2)\n",
    "\n",
    "# MUSE WCS info \n",
    "hdul = fits.open(f\"/home/habjan/jupfiles/data/{galaxy}_IMAGE_FOV_Johnson_B_WCS_Pall_mad.fits\")\n",
    "muse_data = NDData(data=hdul['DATA'].data, mask=np.isnan(hdul['DATA'].data), meta=hdul['DATA'].header, wcs=WCS(hdul['DATA'].header))    \n",
    "muse_data.data[muse_data.data==0] = np.nan\n",
    "\n",
    "# Halpha masks\n",
    "hdul = fits.open(f\"/home/habjan/jupfiles/data/{galaxy}_MAPS.fits\")\n",
    "Halpha = NDData(data=hdul['HA6562_FLUX'].data, mask=np.isnan(hdul['HA6562_FLUX'].data), meta=hdul['HA6562_FLUX'].header, wcs=WCS(hdul['HA6562_FLUX'].header))\n",
    "Halpha.data[muse_data.data==0] = np.nan\n",
    "\n",
    "# Import the HII region spatial masks\n",
    "hdul = fits.open(f\"/home/habjan/jupfiles/data/{galaxy}_nebulae_mask_V2.fits\")\n",
    "nebulae_mask = NDData(data = hdul[0].data.astype(float), mask=Halpha.mask, meta=hdul[0].header, wcs=WCS(hdul[0].header)) \n",
    "nebulae_mask.data[nebulae_mask.data==-1] = np.nan\n",
    "\n",
    "# SITELLE deepframe \n",
    "hdul = fits.open(f\"/home/habjan/jupfiles/data/{galaxy}_deepframe.fits\")\n",
    "deepframe = NDData(data=hdul[0].data, meta=hdul[0].header, wcs=wcs)"
   ]
  },
  {
   "cell_type": "markdown",
   "metadata": {},
   "source": [
    "### Make a list of moderately bright HII regions"
   ]
  },
  {
   "cell_type": "code",
   "execution_count": null,
   "metadata": {},
   "outputs": [],
   "source": [
    "midlist = []\n",
    "for i in range(len(musedata)):\n",
    "    if musedata[i]['OII7319_FLUX'] > 8*musedata[i]['OII7319_FLUX_ERR'] and musedata[i]['OII7319_FLUX'] < 10*musedata[i]['OII7319_FLUX_ERR']:\n",
    "        midlist.append(i)\n",
    "midlist = np.array(midlist)\n",
    "midlist"
   ]
  },
  {
   "cell_type": "markdown",
   "metadata": {},
   "source": [
    "### Plot the fits of [OII]3729 for some of the higher S/N HII regions"
   ]
  },
  {
   "cell_type": "code",
   "execution_count": null,
   "metadata": {},
   "outputs": [],
   "source": [
    "broadening_gvar = gvar.gvar(1, 20)\n",
    "\n",
    "S2 = pn.Atom('S', 2)\n",
    "O2 = pn.Atom('O', 2)\n",
    "temp = 10**4\n",
    "fitshape = 'sinc'\n",
    "OII3726 = Lines().get_line_cm1('[OII]3726')\n",
    "OII3729 = Lines().get_line_cm1('[OII]3729')\n",
    "for i in midlist[0:5]:\n",
    "        \n",
    "      inspectrum = spec[i]\n",
    "      inspectrum[np.isnan(inspectrum)] = 0\n",
    "\n",
    "      wave3729 = 3728.815\n",
    "      red3729 = 1/((wave3729*(musedata[i]['HA6562_VEL']+galvel)/(299792) + wave3729) * 10**-8)\n",
    "\n",
    "      n1 = [np.where(lam > cube.params.filter_range[0])[0][0],np.where(lam > red3729 - 175)[0][0]]\n",
    "      n2 = [np.where(lam > red3729 + 175)[0][0], np.where(lam > cube.params.filter_range[1])[0][0]]\n",
    "      noise = (np.mean(inspectrum[n1[0]:n1[1]]) + np.mean(inspectrum[n2[0]:n2[1]])) / 2\n",
    "      noisestd = (np.std(inspectrum[n1[0]:n1[1]]) + np.std(inspectrum[n2[0]:n2[1]])) / 2\n",
    "      inspectrum = (inspectrum) - (noise)\n",
    "\n",
    "      invel = musedata[i]['HA6562_VEL']+galvel\n",
    "      velocity_gvar = gvar.gvar(invel, 3)\n",
    "        \n",
    "      fit = fit_lines_in_spectrum(inspectrum, [OII3729], \n",
    "                      step=cube.params.step, order=cube.params.order, nm_laser=cube.params.nm_laser, theta=corr2theta(cube.params.axis_corr), zpd_index=cube.params.zpd_index, \n",
    "                      wavenumber=True,\n",
    "                      apodization=1, \n",
    "                      fmodel=fitshape,\n",
    "                      pos_def=['1'],\n",
    "                      pos_cov=[velocity_gvar],\n",
    "                      amp_def=['1'], \n",
    "                      amp_guess=[1],\n",
    "                      )\n",
    "      \n",
    "      oiifit = fit['fitted_models']['Cm1LinesModel'][0]\n",
    "      oii_flux = fit['flux'][0]\n",
    "      oii_snr = fit['snr'][0]\n",
    "      my_oii_snr = fit['lines_params'][0][1] / noisestd\n",
    "\n",
    "      red3729 = fit['lines_params'][0][2]\n",
    "\n",
    "      flux_rang = [np.where(red3729 - 125 < lam)[0][0],np.where(red3729 + 125 < lam)[0][0]]\n",
    "      my_flux = simpson(oiifit[flux_rang[0]:flux_rang[1]])\n",
    "\n",
    "      fig = plt.figure()\n",
    "      fig.set_size_inches(10, 4)\n",
    "\n",
    "      plt.title(f'Region {i} in {galaxy}')\n",
    "      plt.plot(lam, inspectrum, color='blue', label='Noise subtracted spectrum')\n",
    "\n",
    "      plt.axvline(red3729, color='red', linestyle='--', label='Redshifted [OII]3729')\n",
    "      plt.plot(lam, oiifit, color='red', label='[OII] fit')\n",
    "\n",
    "      plt.fill_between(lam[n1],-10**6, 10**10, color='purple', alpha = 0.15, label='Noise')\n",
    "      plt.fill_between(lam[n2],-10**6, 10**10, color='purple', alpha = 0.15)\n",
    "      plt.fill_between(lam[flux_rang],-10**6, 10**10, color='green', alpha = 0.15, label='Integration Range')\n",
    "\n",
    "      plt.xlim(lam[n1[0]+5], lam[n2[1]-5])\n",
    "      plt.ylim(0-np.max(inspectrum)*0.3, np.max(inspectrum)*1.7)\n",
    "\n",
    "      plt.figtext(0.5, -0.175, f\"[OII] Flux: {round(oii_flux, 3)}, SNR: {round(oii_snr,3)} \\n My calculated SNR: {round(my_oii_snr,3)}\\n My calculated Flux: {round(my_flux,3)}\", ha=\"center\", fontsize=10, bbox={\"facecolor\":\"orange\", \"alpha\":0.5, \"pad\":5})\n",
    "\n",
    "      plt.xlabel(r'Wavenumber [cm$^{-1}$]')\n",
    "      plt.ylabel(r'Flux [$\\frac{1e-20 \\cdot erg}{cm^{2} \\cdot s \\cdot cm^{-1}}$]') #\\frac{1e-20 \\cdot \n",
    "      plt.legend()"
   ]
  },
  {
   "cell_type": "markdown",
   "metadata": {},
   "source": [
    "### The code below is a function to fit the [OII]3729 feature"
   ]
  },
  {
   "cell_type": "code",
   "execution_count": null,
   "metadata": {},
   "outputs": [],
   "source": [
    "def fit3729(inwave, influx, snval, phdata, galvel): #, mcit):\n",
    "    \n",
    "    def gaussian(x, C, a, sig):    #a:amplitude, x0:average wavelength, delwave:influxtral resolution, C:zero offeset\n",
    "        return a * np.exp((-(x-w0) ** 2)/ (2 * sig ** 2)) + C\n",
    "    \n",
    "    def gaussian_noC(x, a, sig):\n",
    "        return a * np.exp((-(x-w0) ** 2)/ (2 * sig ** 2))\n",
    "\n",
    "    wavelength = 3729\n",
    "    dopv = 126.47 - 0.00978*wavelength\n",
    "    delwave = (wavelength * dopv * 10**13) / (3 * 10**8 * 10**10)\n",
    "\n",
    "    outflux = np.zeros(len(phdata))\n",
    "\n",
    "    for i in range(len(influx)):\n",
    "        w0 = wavelength*(phdata[i]['HA6562_VEL']+galvel)/(299792) + wavelength\n",
    "        lowb = w0 - 20*delwave\n",
    "        highb = w0 + 20*delwave\n",
    "        low = np.where(inwave > lowb)[0][0]\n",
    "        up = np.where(inwave > highb)[0][0]\n",
    "        waves = inwave[low:up]\n",
    "        fluxes = influx[i][low:up]\n",
    "        fluxaves = np.mean(influx[i][np.where(inwave > w0 + 20)[0][0]:np.where(inwave > w0 + 100)[0][0]])\n",
    "        p0list = np.array([fluxaves, 5000, delwave])\n",
    "        \n",
    "        try:\n",
    "            param, paramcov = curve_fit(gaussian, waves, fluxes, p0list)\n",
    "\n",
    "            flux = quad(gaussian_noC, w0 - 15 * delwave, w0 + 15 * delwave, args=(param[1], param[2]))[0]\n",
    "            signal = param[1]\n",
    "            noise1 = np.std(influx[i][np.where(inwave > w0 - 60)[0][0]:np.where(inwave > w0 - 10)[0][0]])\n",
    "            noise2 = np.std(influx[i][np.where(inwave > w0 + 20)[0][0]:np.where(inwave > w0 + 100)[0][0]])\n",
    "            noise = np.mean([noise1, noise2])\n",
    "\n",
    "            if signal/noise > snval and flux > 0: \n",
    "                outflux[i] = flux - (flux/1.4040668586)\n",
    "                #outfluxerr[i] = mcerr7319(inwave, influx[i], noise, w0, mcit)\n",
    "            else: \n",
    "                outflux[i] = np.nan\n",
    "                #outfluxerr[i] = np.nan\n",
    "\n",
    "        except:\n",
    "            outflux[i] = np.nan\n",
    "            #outfluxerr[i] = np.nan\n",
    "    \n",
    "    return outflux#, outfluxerr"
   ]
  },
  {
   "cell_type": "markdown",
   "metadata": {},
   "source": [
    "### The code below runs th [OII]3729 fitting function"
   ]
  },
  {
   "cell_type": "code",
   "execution_count": null,
   "metadata": {},
   "outputs": [],
   "source": [
    "oiifits = fit3729(lam, spec, 3, musedata, galvel)\n",
    "len(oiifits)"
   ]
  },
  {
   "cell_type": "markdown",
   "metadata": {},
   "source": [
    "### Use the [OII]3729/3726 = 1.4 theoretical relationship to find each individual flux"
   ]
  },
  {
   "cell_type": "code",
   "execution_count": null,
   "metadata": {},
   "outputs": [],
   "source": [
    "rat = 1.4040668586\n",
    "\n",
    "flux = oiifits[1]\n",
    "\n",
    "oii3729 = flux / (1 + 1/1.4)\n",
    "oii3726 = flux / 2.4\n",
    "\n",
    "oii3729, oii3726, oii3729/oii3726"
   ]
  },
  {
   "cell_type": "markdown",
   "metadata": {},
   "source": [
    "### Match indices for HII regions that have different region IDs from different data releases"
   ]
  },
  {
   "cell_type": "code",
   "execution_count": null,
   "metadata": {},
   "outputs": [],
   "source": [
    "rval = 4\n",
    "fablist = []\n",
    "mylist = []\n",
    "\n",
    "for j in range(len(musedata)):\n",
    "    for i in range(len(fabian)):\n",
    "        if round(fabian[i]['cen_dec'], rval) == round(musedata[j]['cen_dec'], rval) and round(fabian[i]['cen_ra'], rval) == round(musedata[j]['cen_ra'], rval) and round(musedata[j]['deproj_dist']) == round(fabian[i]['deproj_dist']):\n",
    "            fablist.append(i)\n",
    "            mylist.append(j)\n",
    "\n",
    "len(fablist), len(mylist)"
   ]
  },
  {
   "cell_type": "markdown",
   "metadata": {},
   "source": [
    "### Plot the resultant flux values in comparison to Fabian's results"
   ]
  },
  {
   "cell_type": "code",
   "execution_count": null,
   "metadata": {},
   "outputs": [],
   "source": [
    "#plt.scatter(oiifits[mylist], fabian[fablist]['OII3729_FLUX'], marker='.', s=50, c='k', alpha=0.5, label='[OII]3729')\n",
    "plt.scatter(oiifits[mylist] / (1 + 1/1.4), fabian[fablist]['OII3729_FLUX'], marker='.', s=50, c='k', alpha=0.6, label='[OII]3729')\n",
    "plt.scatter(oiifits[mylist] / (2.4), fabian[fablist]['OII3726_FLUX'], marker='.', s=50, c='red', alpha=0.4, label='[OII]3726')\n",
    "\n",
    "\n",
    "plt.plot(np.linspace(1, 10**11, 10), np.linspace(1, 10**11, 10), c='k', label='1-to-1 line')\n",
    "\n",
    "plt.title(f'[OII]3726,3729 Flux comparison in {galaxy}')\n",
    "plt.ylabel('Fabians Fluxes')\n",
    "plt.xlabel('Erics Fluxes')\n",
    "lowb = 10**4\n",
    "upb = 10**6\n",
    "plt.xlim(lowb, upb)\n",
    "plt.ylim(lowb, upb)\n",
    "plt.xscale('log')\n",
    "plt.yscale('log')\n",
    "plt.legend()"
   ]
  },
  {
   "cell_type": "markdown",
   "metadata": {},
   "source": [
    "# Use the ORBS package to fit both [OII] emission features"
   ]
  },
  {
   "cell_type": "code",
   "execution_count": null,
   "metadata": {},
   "outputs": [],
   "source": [
    "np.where(musedata['OII7319_FLUX'] > 30*musedata['OII7319_FLUX_ERR'])"
   ]
  },
  {
   "cell_type": "markdown",
   "metadata": {},
   "source": [
    "### Background emission"
   ]
  },
  {
   "cell_type": "code",
   "execution_count": null,
   "metadata": {},
   "outputs": [],
   "source": [
    "regnum = 799\n",
    "nebpix = (np.where(nebulae_mask.data == regnum)[0], np.where(nebulae_mask.data == regnum)[1])\n",
    "edges = [np.max(nebpix[0]) - np.min(nebpix[0]), np.max(nebpix[1]) - np.min(nebpix[1])]\n",
    "r = np.max(edges)/2\n",
    "rmin = r * 3\n",
    "rmax = np.sqrt(r**2 + rmin**2)\n",
    "#rmax = r * 10\n",
    "x = np.median(nebpix[0])\n",
    "y = np.median(nebpix[1])\n",
    "\n",
    "imin = x - rmax\n",
    "imax = x + rmax + 1\n",
    "jmin = y - rmax\n",
    "jmax = y + rmax + 1\n",
    "xlist = []\n",
    "ylist = []\n",
    "for i in np.arange(imin, imax):\n",
    "    for j in np.arange(jmin, jmax):\n",
    "        ij = np.array([i,j])\n",
    "        dist = np.linalg.norm(ij - np.array((x,y)))\n",
    "        i, j = int(i), int(j)\n",
    "        distnum = 3\n",
    "        if dist > rmin and dist <= rmax and np.all(np.isnan(nebulae_mask.data[i-distnum:i+distnum,j-distnum:j+distnum])):\n",
    "            xlist.append(i)\n",
    "            ylist.append(j)\n",
    "\n",
    "inpix = (xlist, ylist)\n",
    "\n",
    "\n",
    "testcoord = WCS(nebulae_mask.meta).pixel_to_world(inpix[1], inpix[0])\n",
    "sitpix = np.transpose(cube.world2pix((testcoord.ra.degree, testcoord.dec.degree)))\n",
    "sitpix = sitpix[0].astype(np.int64), sitpix[1].astype(np.int64)\n",
    "\n",
    "back = cube.extract_integrated_spectrum(sitpix)\n",
    "backspec = np.real(back[1])\n",
    "backspec[np.isnan(backspec)] = 0\n",
    "backspec = backspec"
   ]
  },
  {
   "cell_type": "markdown",
   "metadata": {},
   "source": [
    "### The code below extracts a ratio for the [OII] fluxes"
   ]
  },
  {
   "cell_type": "code",
   "execution_count": null,
   "metadata": {},
   "outputs": [],
   "source": [
    "S2 = pn.Atom('S', 2)\n",
    "O2 = pn.Atom('O', 2)\n",
    "temp = 10**4\n",
    "S2ratio = musedata['SII6730_FLUX_CORR'] / musedata['SII6716_FLUX_CORR']\n",
    "density = S2.getTemDen(int_ratio=S2ratio, tem=temp, wave1=6731, wave2=6717)\n",
    "O2ratio = O2.getEmissivity(tem=temp, den=density, wave=3729) / O2.getEmissivity(tem=temp, den=density, wave=3726)\n",
    "\n",
    "np.mean(O2ratio[np.where(~np.isnan(O2ratio))]) / 1.4"
   ]
  },
  {
   "cell_type": "markdown",
   "metadata": {},
   "source": [
    "### The code below fits the spectrum"
   ]
  },
  {
   "cell_type": "code",
   "execution_count": null,
   "metadata": {},
   "outputs": [],
   "source": [
    "region = 73\n",
    "inspectrum = spec[region]\n",
    "inspectrum[np.isnan(inspectrum)] = 0\n",
    "\n",
    "wave3726 = 3726.032\n",
    "red3726 = 1/((wave3726*(musedata[region]['HA6562_VEL']+galvel)/(299792) + wave3726) * 10**-8)\n",
    "wave3729 = 3728.815\n",
    "red3729 = 1/((wave3729*(musedata[region]['HA6562_VEL']+galvel)/(299792) + wave3729) * 10**-8)\n",
    "\n",
    "wave = lam \n",
    "n1 = [np.where(wave > cube.params.filter_range[0])[0][0],np.where(wave > red3729 - 50)[0][0]]\n",
    "n2 = [np.where(wave > red3729 + 50)[0][0], np.where(wave > cube.params.filter_range[1])[0][0]]\n",
    "waven1 = wave[n1[0]:n1[1]]\n",
    "waven2 = wave[n2[0]:n2[1]]\n",
    "noise = (np.mean(inspectrum[n1[0]:n1[1]]) + np.mean(inspectrum[n2[0]:n2[1]])) / 2\n",
    "\n",
    "OII3726 = Lines().get_line_cm1('[OII]3726')\n",
    "OII3729 = Lines().get_line_cm1('[OII]3729')\n",
    "\n",
    "inspec = (inspectrum) - (noise)\n",
    "#inspec[inspec < 0] = 0\n",
    "\n",
    "\n",
    "S2 = pn.Atom('S', 2)\n",
    "O2 = pn.Atom('O', 2)\n",
    "temp = 10**4\n",
    "S2ratio = musedata[region]['SII6730_FLUX_CORR'] / musedata[region]['SII6716_FLUX_CORR']\n",
    "density = S2.getTemDen(int_ratio=S2ratio, tem=temp, wave1=6731, wave2=6717)\n",
    "O2ratio = O2.getEmissivity(tem=temp, den=density, wave=3729) / O2.getEmissivity(tem=temp, den=density, wave=3726)\n",
    "#O2ratio = 1.4\n",
    "amp_ratio = amp_ratio_from_flux_ratio(OII3729,OII3726,O2ratio)\n",
    "\n",
    "invel = musedata[region]['HA6562_VEL']+galvel\n",
    "velocity_gvar = gvar.gvar(invel, 20)\n",
    "broadening_gvar = gvar.gvar(1, 20)\n",
    "\n",
    "fitshape = 'sinc'\n",
    "\n",
    "#inspec = (inspectrum * 10**-20) - backspec\n",
    "\n",
    "fit = fit_lines_in_spectrum(inspec, [red3726, red3729], \n",
    "                      step=cube.params.step, \n",
    "                      order=cube.params.order, \n",
    "                      nm_laser=cube.params.nm_laser, \n",
    "                      theta=corr2theta(cube.params.axis_corr), \n",
    "                      zpd_index=cube.params.zpd_index, \n",
    "                      wavenumber=True,\n",
    "                      apodization=1, \n",
    "                      fmodel=fitshape,\n",
    "                      pos_def='fixed', #['1', '1'],\n",
    "                      #pos_cov=[velocity_gvar],\n",
    "                      amp_def=['1', '1'], \n",
    "                      amp_guess=[1, amp_ratio],\n",
    "                      )\n",
    "\n",
    "fit['flux'][1]/ fit['flux'][0], O2ratio"
   ]
  },
  {
   "cell_type": "markdown",
   "metadata": {},
   "source": [
    "### Compare S/N values"
   ]
  },
  {
   "cell_type": "code",
   "execution_count": null,
   "metadata": {},
   "outputs": [],
   "source": [
    "snrnoise = np.std(inspectrum[n1[0]: n1[1]]) + np.std(inspectrum[n2[0]:n2[1]]) \n",
    "snrnoise = snrnoise / 2\n",
    "OII3726_fit, OII3729_fit = fit['fitted_models']['Cm1LinesModel']\n",
    "sig = np.max(OII3726_fit + OII3729_fit)\n",
    "mycalculatednoise = sig / snrnoise\n",
    "\n",
    "orcssnr = fit['snr'][0]\n",
    "\n",
    "print(f'My SNR is {round(mycalculatednoise, 3)} while the SNR from the ORCS module is {round(orcssnr, 3)} for the [OII]3726 flux')"
   ]
  },
  {
   "cell_type": "markdown",
   "metadata": {},
   "source": [
    "### Comapre velocities from MUSE-PHANGS catalog and fitted velocity"
   ]
  },
  {
   "cell_type": "code",
   "execution_count": null,
   "metadata": {},
   "outputs": [],
   "source": [
    "fitvel = fit['velocity'][0]\n",
    "nebvel = musedata[region]['HA6562_VEL']+galvel\n",
    "print(f'The velicty from the fit is {round(fitvel, 1)} km/s and the velocity from the Nebular catalog is {round(nebvel,1)} km/s')"
   ]
  },
  {
   "cell_type": "markdown",
   "metadata": {},
   "source": [
    "### The code below plots the 'Bayesian' [OII] fits"
   ]
  },
  {
   "cell_type": "code",
   "execution_count": null,
   "metadata": {},
   "outputs": [],
   "source": [
    "OII3726_fit, OII3729_fit = fit['fitted_models']['Cm1LinesModel']\n",
    "OII3726_flux, OII3729_flux = fit['flux']\n",
    "OII3726red, OII3729red = fit['lines_params'][0][2], fit['lines_params'][1][2]\n",
    "\n",
    "fig = plt.figure()\n",
    "fig.set_size_inches(10, 4)\n",
    "\n",
    "plt.plot(wave, OII3726_fit, c='red', label=f'[OII]3726 Fit; Flux {round(OII3726_flux, 2)}')\n",
    "plt.plot(wave, OII3729_fit, c='blue', label=f'[OII]3729 Fit; Flux {round(OII3729_flux, 2)}')\n",
    "plt.plot(wave, inspec, c='k', label='Raw Integrated Spectrum')\n",
    "#plt.plot(wave, fit['fitted_vector'])\n",
    "\n",
    "plt.plot(wave, OII3726_fit+OII3729_fit, c='green', label=f'[OII]3729 Fit + [OII3726] Fit')\n",
    "\n",
    "plt.fill_between(waven1,-10**6, 10**10, color='purple', alpha = 0.15, label='Noise')\n",
    "plt.fill_between(waven2,-10**6, 10**10, color='purple', alpha = 0.15)\n",
    "\n",
    "plt.axvline(OII3726, c='purple', alpha=0.7, linestyle='--', label=f'3726 Angstrom')\n",
    "plt.axvline(OII3729, c='orange', alpha=0.7, linestyle='--', label=f'3729 Angstrom')\n",
    "plt.axvline(OII3726red, c='red', alpha=0.7, linestyle='--', label=f'Redshifted 3726 Angstrom: {round(1/(OII3726red*10**-8), 2)}')\n",
    "plt.axvline(OII3729red, c='blue', alpha=0.7, linestyle='--', label=f'Redshifted 3729 Angstrom: {round(1/(OII3729red*10**-8), 2)}')\n",
    "\n",
    "plt.xlim(wave[n1[0]-1], wave[n2[1]]+1)\n",
    "plt.ylim(0-np.max(inspec)*0.3, np.max(inspec)*1.7)\n",
    "\n",
    "shapedict = {'gaussian':'Gaussian', 'sinc':'Sinc', 'sincgauss':'Sinc + Gaussian', 'sinc2':r'$/sqrt{sinc^{2}}$'}\n",
    "inshape = shapedict[fitshape]\n",
    "\n",
    "plt.title(f'Region {region} from {galaxy} fitted with {inshape} with Velocity {round(fitvel, 1)}'r'[$\\frac{km}{s}$]')\n",
    "plt.xlabel(r'Wavenumber [cm$^{-1}$]')\n",
    "plt.ylabel(r'Flux [$\\frac{1e-20 \\cdot erg}{cm^{2} \\cdot s \\cdot Angstrom}$]') #\\frac{1e-20 \\cdot \n",
    "plt.legend()"
   ]
  },
  {
   "cell_type": "markdown",
   "metadata": {},
   "source": [
    "### Create a function to find the [OII] fluxes in all the regions"
   ]
  },
  {
   "cell_type": "code",
   "execution_count": null,
   "metadata": {},
   "outputs": [],
   "source": [
    "def oiiorc(phdata, inspec, ingalvel, incube, inwave, inebv, snval):\n",
    "\n",
    "    outflux3726, outflux3729 = np.zeros(len(phdata)), np.zeros(len(phdata))\n",
    "    outflux3726err, outflux3729err = np.zeros(len(phdata)), np.zeros(len(phdata))\n",
    "    broadening_gvar = gvar.gvar(1, 20)\n",
    "\n",
    "    fitshape = 'sinc'\n",
    "    for i in range(len(phdata)):\n",
    "\n",
    "        OII3726 = Lines().get_line_cm1('[OII]3726')\n",
    "        OII3729 = Lines().get_line_cm1('[OII]3729')\n",
    "        \n",
    "        inspectrum = inspec[i]\n",
    "\n",
    "        wave3726 = 3726.032\n",
    "        red3726 = 1/((wave3726*(phdata[i]['HA6562_VEL']+galvel)/(299792) + wave3726) * 10**-8)\n",
    "        wave3729 = 3728.815\n",
    "        red3729 = 1/((wave3729*(phdata[i]['HA6562_VEL']+galvel)/(299792) + wave3729) * 10**-8)\n",
    "\n",
    "        noise1 = np.mean(inspectrum[np.where(inwave > red3729 - 180)[0][0]:np.where(inwave > red3729 - 50)[0][0]])\n",
    "        noise2 = np.mean(inspectrum[np.where(inwave > red3729 + 40)[0][0]:np.where(inwave > red3729 + 180)[0][0]])\n",
    "        noise = np.mean([noise1, noise2])\n",
    "        inspectrum[np.isnan(inspectrum)] = 0\n",
    "        inspectrum = (inspectrum * 10**-20) - (noise * 10**-20)\n",
    "\n",
    "        invel = phdata[i]['HA6562_VEL']+ingalvel\n",
    "        velocity_gvar = gvar.gvar(invel, 20)\n",
    "        amp_ratio = amp_ratio_from_flux_ratio(OII3729,OII3726,1.4)\n",
    "\n",
    "        try:\n",
    "            fit = fit_lines_in_spectrum(inspectrum, [OII3726, OII3729], \n",
    "                      step=incube.params.step, order=incube.params.order, nm_laser=incube.params.nm_laser, theta=corr2theta(incube.params.axis_corr), zpd_index=incube.params.zpd_index, \n",
    "                      wavenumber=True,\n",
    "                      apodization=1, \n",
    "                      fmodel=fitshape,\n",
    "                      pos_def=['1', '1'],\n",
    "                      pos_cov=[velocity_gvar],\n",
    "                      amp_def=['1', '1'], \n",
    "                      amp_guess=[1, amp_ratio],\n",
    "                      )\n",
    "            if fit['snr'][0] > snval and fit['snr'][1] > snval:\n",
    "                outflux3726[i], outflux3729[i] = fit['flux'] * 10**20\n",
    "                outflux3726err[i], outflux3729err[i] = fit['flux_err'] * 10**20\n",
    "            else:\n",
    "                outflux3726[i], outflux3729[i] = np.nan, np.nan\n",
    "                outflux3726err[i], outflux3729err[i] = np.nan, np.nan\n",
    "        except: \n",
    "            outflux3726[i], outflux3729[i] = np.nan, np.nan\n",
    "            outflux3726err[i], outflux3729err[i] = np.nan, np.nan\n",
    "    \n",
    "    R_V = 3.1\n",
    "    mwcorr26 = remove(extinction.odonnell94(np.array([Lines().get_line_nm('[OII]3726') * 10]), ebv*R_V, R_V), outflux3726)\n",
    "    mwcorr29 = remove(extinction.odonnell94(np.array([Lines().get_line_nm('[OII]3729') * 10]), ebv*R_V, R_V), outflux3729)\n",
    "    mwcorr26err = remove(extinction.odonnell94(np.array([Lines().get_line_nm('[OII]3726') * 10]), ebv*R_V, R_V), outflux3726err)\n",
    "    mwcorr29err = remove(extinction.odonnell94(np.array([Lines().get_line_nm('[OII]3729') * 10]), ebv*R_V, R_V), outflux3729err)\n",
    "\n",
    "    return mwcorr26, mwcorr29, mwcorr26err, mwcorr29err"
   ]
  },
  {
   "cell_type": "markdown",
   "metadata": {},
   "source": [
    "### Run the function"
   ]
  },
  {
   "cell_type": "code",
   "execution_count": null,
   "metadata": {},
   "outputs": [],
   "source": [
    "flux3726, flux3729, flux3726err, flux3729err = oiiorc(musedata, spec, galvel, cube, lam, ebv, 0)"
   ]
  },
  {
   "cell_type": "markdown",
   "metadata": {},
   "source": [
    "### Create lists that match the HII regions from Fabian's data to my data"
   ]
  },
  {
   "cell_type": "code",
   "execution_count": null,
   "metadata": {},
   "outputs": [],
   "source": [
    "rval = 0\n",
    "fablist = []\n",
    "mylist = []\n",
    "count = 0\n",
    "\n",
    "#round(musedata[j]['deproj_dist'], rval) == round(fabian[i]['deproj_dist'], rval) and\\\n",
    "\n",
    "for j in range(len(musedata)):\n",
    "    for i in range(len(fabian)):\n",
    "        if round(fabian[i]['cen_dec'], rval) == round(musedata[j]['cen_dec'], rval) and round(fabian[i]['cen_ra'], rval) == round(musedata[j]['cen_ra'], rval) and\\\n",
    "        round(musedata[j]['cen_x_geo'], rval) == round(fabian[i]['cen_x_geo'], rval) and\\\n",
    "            round(musedata[j]['cen_y_geo'], rval) == round(fabian[i]['cen_y_geo'], rval):\n",
    "            count += 1\n",
    "            fablist.append(i)\n",
    "            mylist.append(j)\n",
    "    if count > 1:\n",
    "        print(count, i)\n",
    "    count = 0\n",
    "\n",
    "len(fablist), len(mylist)"
   ]
  },
  {
   "cell_type": "code",
   "execution_count": null,
   "metadata": {},
   "outputs": [],
   "source": [
    "np.mean(flux3729[mylist]/fabian[fablist]['OII3729_FLUX']), np.mean(flux3726[mylist]/fabian[fablist]['OII3726_FLUX'])"
   ]
  },
  {
   "cell_type": "markdown",
   "metadata": {},
   "source": [
    "### Compare Fabian and I's results"
   ]
  },
  {
   "cell_type": "code",
   "execution_count": null,
   "metadata": {},
   "outputs": [],
   "source": [
    "plt.scatter(flux3729[mylist], fabian[fablist]['OII3729_FLUX'], marker='.', s=50, c='k', alpha=0.6, label='[OII]3729')\n",
    "plt.scatter(flux3726[mylist], fabian[fablist]['OII3726_FLUX'], marker='.', s=50, c='red', alpha=0.4, label='[OII]3726')\n",
    "\n",
    "#plt.errorbar(flux3729[mylist], fabian[fablist]['OII3729_FLUX'], yerr=fabian[fablist]['OII3729_FLUX_ERR'], c='k',alpha=0.35, fmt=\".\", markersize=8, capsize=5, label='[OII]3729')\n",
    "#plt.errorbar(flux3726[mylist], fabian[fablist]['OII3726_FLUX'], yerr=fabian[fablist]['OII3726_FLUX_ERR'], c='red',alpha=0.35, fmt=\".\", markersize=8, capsize=5, label='[OII]3726')\n",
    "\n",
    "plt.plot(np.linspace(1, 10**11, 10), np.linspace(1, 10**11, 10), c='k', label='1-to-1 line')\n",
    "\n",
    "plt.title(f'[OII]3726,3729 Flux comparison in {galaxy}')\n",
    "plt.ylabel('Fabians Fluxes')\n",
    "plt.xlabel('Erics Fluxes')\n",
    "lowb = 10**3\n",
    "upb = 10**7\n",
    "plt.xlim(lowb, upb)\n",
    "plt.ylim(lowb, upb)\n",
    "plt.xscale('log')\n",
    "plt.yscale('log')\n",
    "plt.legend()\n",
    "plt.grid()"
   ]
  },
  {
   "cell_type": "markdown",
   "metadata": {},
   "source": [
    "### Comparing [OIII]5007 from each table as a sanity check"
   ]
  },
  {
   "cell_type": "code",
   "execution_count": null,
   "metadata": {},
   "outputs": [],
   "source": [
    "plt.scatter(musedata[mylist]['HB4861_FLUX'], fabian[fablist]['HB4861_FLUX'], marker='.', s=50, c='k', alpha=0.6, label=r'H$\\beta$')\n",
    "plt.scatter(musedata[mylist]['OIII5006_FLUX'], fabian[fablist]['OIII5006_FLUX'], marker='.', s=50, c='red', alpha=0.4, label='[OIII]5007')\n",
    "plt.scatter(musedata[mylist]['OII7319_FLUX'], fabian[fablist]['OII7319_FLUX'], marker='.', s=50, c='green', alpha=0.4, label='[OII]7319')\n",
    "\n",
    "#plt.errorbar(flux3729[mylist], fabian[fablist]['OII3729_FLUX'], yerr=fabian[fablist]['OII3729_FLUX_ERR'], c='k',alpha=0.35, fmt=\".\", markersize=8, capsize=5, label='[OII]3729')\n",
    "#plt.errorbar(flux3726[mylist], fabian[fablist]['OII3726_FLUX'], yerr=fabian[fablist]['OII3726_FLUX_ERR'], c='red',alpha=0.35, fmt=\".\", markersize=8, capsize=5, label='[OII]3726')\n",
    "\n",
    "plt.plot(np.linspace(1, 10**11, 10), np.linspace(1, 10**11, 10), c='k', label='1-to-1 line')\n",
    "\n",
    "plt.title(f'Flux comparison in {galaxy}')\n",
    "plt.ylabel('HIIregion_cat_DR2_native.fits')\n",
    "plt.xlabel('Nebulae_catalogue_v3.fits')\n",
    "lowb = 10**1\n",
    "upb = 10**7.5\n",
    "plt.xlim(lowb, upb)\n",
    "plt.ylim(lowb, upb)\n",
    "plt.xscale('log')\n",
    "plt.yscale('log')\n",
    "plt.legend()\n",
    "plt.grid()"
   ]
  },
  {
   "cell_type": "markdown",
   "metadata": {},
   "source": [
    "# Comparison with the same data that Fabian used to derive his [OII] fluxes"
   ]
  },
  {
   "cell_type": "markdown",
   "metadata": {},
   "source": [
    "### Import data"
   ]
  },
  {
   "cell_type": "code",
   "execution_count": null,
   "metadata": {},
   "outputs": [],
   "source": [
    "infile = open(\"/home/habjan/jupfiles/data/HIIregion_cat_DR2_native.fits\",'rb')\n",
    "hdul = Table.read(infile)\n",
    "musedata1 = hdul[hdul['gal_name'] == f'{galaxy}']\n",
    "\n",
    "hdul = fits.open(f'/home/habjan/jupfiles/data/{galaxy}_SITELLE_Spectra_HIIreg.fits')\n",
    "lam1 = hdul[0].data\n",
    "spec1 = hdul[1].data"
   ]
  },
  {
   "cell_type": "markdown",
   "metadata": {},
   "source": [
    "### Fit [OII] emission lines"
   ]
  },
  {
   "cell_type": "code",
   "execution_count": null,
   "metadata": {},
   "outputs": [],
   "source": [
    "flux3726_1, flux3729_1, flux3726err_1, flux3729err_1 = oiiorc(musedata1, spec1, galvel, cube, lam1, ebv, 0)"
   ]
  },
  {
   "cell_type": "markdown",
   "metadata": {},
   "source": [
    "### Plot these results against Fabian's fluxes"
   ]
  },
  {
   "cell_type": "code",
   "execution_count": null,
   "metadata": {},
   "outputs": [],
   "source": [
    "plt.scatter(flux3729_1, fabian['OII3729_FLUX'], marker='.', s=50, c='k', alpha=0.6, label='[OII]3729')\n",
    "plt.scatter(flux3726_1, fabian['OII3726_FLUX'], marker='.', s=50, c='red', alpha=0.4, label='[OII]3726')\n",
    "\n",
    "#plt.errorbar(flux3729[mylist], fabian[fablist]['OII3729_FLUX'], yerr=fabian[fablist]['OII3729_FLUX_ERR'], c='k',alpha=0.35, fmt=\".\", markersize=8, capsize=5, label='[OII]3729')\n",
    "#plt.errorbar(flux3726[mylist], fabian[fablist]['OII3726_FLUX'], yerr=fabian[fablist]['OII3726_FLUX_ERR'], c='red',alpha=0.35, fmt=\".\", markersize=8, capsize=5, label='[OII]3726')\n",
    "\n",
    "plt.plot(np.linspace(1, 10**11, 10), np.linspace(1, 10**11, 10), c='k', label='1-to-1 line')\n",
    "\n",
    "plt.title(f'[OII]3726,3729 Flux comparison in {galaxy}')\n",
    "plt.ylabel('Fabians Fluxes')\n",
    "plt.xlabel('Erics Fluxes')\n",
    "lowb = 10**2\n",
    "upb = 10**7\n",
    "plt.xlim(lowb, upb)\n",
    "plt.ylim(lowb, upb)\n",
    "plt.xscale('log')\n",
    "plt.yscale('log')\n",
    "plt.legend()\n",
    "plt.grid()"
   ]
  },
  {
   "cell_type": "code",
   "execution_count": null,
   "metadata": {},
   "outputs": [],
   "source": [
    "np.mean(flux3729_1/fabian['OII3729_FLUX']), np.mean(flux3726_1/fabian['OII3726_FLUX'])"
   ]
  }
 ],
 "metadata": {
  "kernelspec": {
   "display_name": "orb3",
   "language": "python",
   "name": "python3"
  },
  "language_info": {
   "codemirror_mode": {
    "name": "ipython",
    "version": 3
   },
   "file_extension": ".py",
   "mimetype": "text/x-python",
   "name": "python",
   "nbconvert_exporter": "python",
   "pygments_lexer": "ipython3",
   "version": "3.7.16"
  },
  "orig_nbformat": 4
 },
 "nbformat": 4,
 "nbformat_minor": 2
}
