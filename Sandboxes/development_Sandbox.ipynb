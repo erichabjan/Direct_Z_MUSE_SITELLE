{
 "cells": [
  {
   "cell_type": "code",
   "execution_count": null,
   "metadata": {},
   "outputs": [],
   "source": [
    "import numpy as np\n",
    "import matplotlib.pyplot as plt\n",
    "from astropy.table import Table, join, QTable, vstack\n",
    "import astropy.units as u\n",
    "import sys\n",
    "import pyneb as pn\n",
    "from multiprocessing import Pool\n",
    "import multiprocessing as mp\n",
    "import math\n",
    "from astropy.io import fits\n",
    "from orcs.process import SpectralCube\n",
    "\n",
    "from astropy.nddata import NDData, Cutout2D\n",
    "from astropy.wcs import WCS\n",
    "\n",
    "import astropy.units as u\n",
    "from astropy.coordinates import SkyCoord\n",
    "\n",
    "from reproject import reproject_interp\n",
    "from regions import PixCoord\n",
    "\n",
    "import pylab as pl"
   ]
  },
  {
   "attachments": {},
   "cell_type": "markdown",
   "metadata": {},
   "source": [
    "### Choose a Galaxy to Analyze"
   ]
  },
  {
   "cell_type": "code",
   "execution_count": null,
   "metadata": {},
   "outputs": [],
   "source": [
    "galaxynum = 4\n",
    "galdic = {1:'NGC4254', 2:'NGC4535', 3:'NGC3351', 4:'NGC2835', 5:'NGC0628'}  #There is no SITELLE data for NGC 4254, NGC 2835 has the best data \n",
    "galaxy = galdic[galaxynum]\n",
    "galaxy"
   ]
  },
  {
   "attachments": {},
   "cell_type": "markdown",
   "metadata": {},
   "source": [
    "# Import Data"
   ]
  },
  {
   "cell_type": "markdown",
   "metadata": {},
   "source": [
    "### The data obtained from SITELLE is contained in the `name_cube.hdf5` file"
   ]
  },
  {
   "cell_type": "code",
   "execution_count": null,
   "metadata": {},
   "outputs": [],
   "source": [
    "infile = f\"/home/habjan/jupfiles/data/{galaxy}_cube.hdf5\"\n",
    "cube = SpectralCube(infile)"
   ]
  },
  {
   "cell_type": "markdown",
   "metadata": {},
   "source": [
    "### Import muse image for reprojection"
   ]
  },
  {
   "cell_type": "code",
   "execution_count": null,
   "metadata": {},
   "outputs": [],
   "source": [
    "hdul = fits.open(f\"/home/habjan/jupfiles/data/{galaxy}_IMAGE_FOV_Johnson_B_WCS_Pall_mad.fits\")\n",
    "muse_data = NDData(data=hdul['DATA'].data, mask=np.isnan(hdul['DATA'].data), meta=hdul['DATA'].header, wcs=WCS(hdul['DATA'].header))    \n",
    "muse_data.data[muse_data.data==0] = np.nan"
   ]
  },
  {
   "cell_type": "markdown",
   "metadata": {},
   "source": [
    "### Import Halpha Flux values for visualizaton (This file is not needed for the analysis)"
   ]
  },
  {
   "cell_type": "code",
   "execution_count": null,
   "metadata": {},
   "outputs": [],
   "source": [
    "hdul = fits.open(f\"/home/habjan/jupfiles/data/{galaxy}_MAPS.fits\")\n",
    "Halpha = NDData(data=hdul['HA6562_FLUX'].data, mask=np.isnan(hdul['HA6562_FLUX'].data), meta=hdul['HA6562_FLUX'].header, wcs=WCS(hdul['HA6562_FLUX'].header))\n",
    "Halpha.data[muse_data.data==0] = np.nan"
   ]
  },
  {
   "cell_type": "markdown",
   "metadata": {},
   "source": [
    "### Import HII region spatial masks for the location of each HII region"
   ]
  },
  {
   "cell_type": "code",
   "execution_count": null,
   "metadata": {},
   "outputs": [],
   "source": [
    "# Import the HII region spatial masks\n",
    "hdul = fits.open(f\"/home/habjan/jupfiles/data/{galaxy}_nebulae_mask_V2.fits\")\n",
    "nebulae_mask = NDData(data = hdul[0].data.astype(float), mask=Halpha.mask, meta=hdul[0].header, wcs=WCS(hdul[0].header)) \n",
    "nebulae_mask.data[nebulae_mask.data==-1] = np.nan"
   ]
  },
  {
   "cell_type": "markdown",
   "metadata": {},
   "source": [
    "### WCS information from the 'name_cube.fits' file can be obtained to correct the WCS information in the 'name_deepframe.fits' file"
   ]
  },
  {
   "cell_type": "code",
   "execution_count": null,
   "metadata": {},
   "outputs": [],
   "source": [
    "hdul = fits.open(f\"/home/habjan/jupfiles/data/{galaxy}_cube.fits\")\n",
    "header = hdul[0].header\n",
    "wcs = WCS(header,naxis=2)"
   ]
  },
  {
   "cell_type": "markdown",
   "metadata": {},
   "source": [
    "### The 'name_deepframe.fits' file is read in to get the correct 2d header"
   ]
  },
  {
   "cell_type": "code",
   "execution_count": null,
   "metadata": {},
   "outputs": [],
   "source": [
    "hdul = fits.open(f\"/home/habjan/jupfiles/data/{galaxy}_deepframe.fits\")\n",
    "deepframe = NDData(data=hdul[0].data, meta=hdul[0].header, wcs=wcs)"
   ]
  },
  {
   "cell_type": "markdown",
   "metadata": {},
   "source": [
    "### Import PHANGS Muse Nebular catalog"
   ]
  },
  {
   "cell_type": "code",
   "execution_count": null,
   "metadata": {},
   "outputs": [],
   "source": [
    "infile = open(\"/home/habjan/jupfiles/data/Nebulae_catalogue_v3.fits\",'rb')\n",
    "hdul = Table.read(infile)\n",
    "musedata = hdul[hdul['gal_name'] == f'{galaxy}']"
   ]
  },
  {
   "cell_type": "markdown",
   "metadata": {},
   "source": [
    "# Analyze data to obtain Spectra"
   ]
  },
  {
   "cell_type": "markdown",
   "metadata": {},
   "source": [
    "### Plot some of the data from above for visualization"
   ]
  },
  {
   "cell_type": "code",
   "execution_count": null,
   "metadata": {},
   "outputs": [],
   "source": [
    "imagenamedic = {1:f'{galaxy}_IMAGE_FOV_Johnson', 2:f'{galaxy}_MAPS', 3:f'{galaxy}_nebulae_mask_V2', 4:f'{galaxy}_deepframe'}\n",
    "plotdatadic = {1:muse_data, 2:Halpha, 3:nebulae_mask, 4:deepframe}\n",
    "\n",
    "imnum1 = 3\n",
    "imagename1 = imagenamedic[imnum1]\n",
    "plotdata1 = plotdatadic[imnum1]\n",
    "\n",
    "\n",
    "ax1 = plt.subplot(1,2,1, projection=wcs)\n",
    "ax1.imshow(plotdata1.data, origin='lower', vmin=-100., vmax=2000.)\n",
    "ax1.coords['ra'].set_axislabel('Right Ascension')\n",
    "ax1.coords['dec'].set_axislabel('Declination')\n",
    "ax1.set_title(imagename1)\n",
    "\n",
    "imnum2 = 2\n",
    "imagename2 = imagenamedic[imnum2]\n",
    "plotdata2 = plotdatadic[imnum2]\n",
    "\n",
    "ax2 = plt.subplot(1,2,2, projection=wcs)\n",
    "ax2.imshow(plotdata2.data, origin='lower', vmin=-100, vmax=2000)\n",
    "ax2.coords['ra'].set_axislabel('Right Ascension')\n",
    "ax2.coords['dec'].set_axislabel('Declination')\n",
    "ax2.coords['dec'].set_axislabel_position('r')\n",
    "ax2.coords['dec'].set_ticklabel_position('r')\n",
    "ax2.set_title(imagename2)"
   ]
  },
  {
   "cell_type": "markdown",
   "metadata": {},
   "source": [
    "### Using `reporject_interp` we can visualize what the MUSE image looks like inside the SITELLE image"
   ]
  },
  {
   "cell_type": "code",
   "execution_count": null,
   "metadata": {},
   "outputs": [],
   "source": [
    "array, footprint = reproject_interp(nebulae_mask, output_projection=wcs, shape_out=deepframe.data.shape)"
   ]
  },
  {
   "cell_type": "markdown",
   "metadata": {},
   "source": [
    "### Plot the reprojected image and footprint of the MUSE data in 'SITELLE space'"
   ]
  },
  {
   "cell_type": "code",
   "execution_count": null,
   "metadata": {},
   "outputs": [],
   "source": [
    "ax1 = plt.subplot(1,2,1, projection=wcs)\n",
    "ax1.imshow(array, origin='lower', vmin=-2.e-4, vmax=5.e-4)\n",
    "ax1.coords['ra'].set_axislabel('Right Ascension')\n",
    "ax1.coords['dec'].set_axislabel('Declination')\n",
    "ax1.set_title('Reprojected MUSE image \\n in to SITELLE')\n",
    "\n",
    "ax2 = plt.subplot(1,2,2, projection=wcs)\n",
    "ax2.imshow(footprint, origin='lower', vmin=0, vmax=1.5)\n",
    "ax2.coords['ra'].set_axislabel('Right Ascension')\n",
    "ax2.coords['dec'].set_axislabel('Declination')\n",
    "ax2.coords['dec'].set_axislabel_position('r')\n",
    "ax2.coords['dec'].set_ticklabel_position('r')\n",
    "ax2.set_title('footprint of MUSE in SITELLE')"
   ]
  },
  {
   "cell_type": "markdown",
   "metadata": {},
   "source": [
    "### Plot the SITELLE image"
   ]
  },
  {
   "cell_type": "code",
   "execution_count": null,
   "metadata": {},
   "outputs": [],
   "source": [
    "deep = cube.get_deep_frame()\n",
    "deep.imshow(perc=95, wcs=True)\n",
    "pl.grid()\n",
    "cb = pl.colorbar(shrink=0.8, format='%.1e')\n",
    "cb.ax.set_title('counts')\n",
    "#deep.to_fits('deep_frame.fits')"
   ]
  },
  {
   "cell_type": "markdown",
   "metadata": {},
   "source": [
    "### Use the SITELLE deepframe to reproject the MUSE HII region mask"
   ]
  },
  {
   "cell_type": "code",
   "execution_count": null,
   "metadata": {},
   "outputs": [],
   "source": [
    "array, footprint = reproject_interp(nebulae_mask, output_projection=wcs, shape_out=deepframe.data.shape) #output_projection=wcs, shape_out=(223, 899, 900))\n",
    "repro_mask = NDData(data=array, meta=nebulae_mask.meta, wcs=wcs)"
   ]
  },
  {
   "cell_type": "markdown",
   "metadata": {},
   "source": [
    "### Plot the reprojected HII region mask"
   ]
  },
  {
   "cell_type": "code",
   "execution_count": null,
   "metadata": {},
   "outputs": [],
   "source": [
    "ax1 = plt.subplot(1,2,1, projection=WCS(repro_mask.meta))\n",
    "ax1.imshow(array, origin='lower', vmin=-2.e-4, vmax=5.e-4)\n",
    "ax1.coords['ra'].set_axislabel('Right Ascension')\n",
    "ax1.coords['dec'].set_axislabel('Declination')\n",
    "ax1.set_title('Reprojected MUSE image \\n in to SITELLE')\n",
    "\n",
    "ax2 = plt.subplot(1,2,2, projection=WCS(repro_mask.meta))\n",
    "ax2.imshow(footprint, origin='lower', vmin=0, vmax=1.5)\n",
    "ax2.coords['ra'].set_axislabel('Right Ascension')\n",
    "ax2.coords['dec'].set_axislabel('Declination')\n",
    "ax2.coords['dec'].set_axislabel_position('r')\n",
    "ax2.coords['dec'].set_ticklabel_position('r')\n",
    "ax2.set_title('footprint of MUSE in SITELLE')"
   ]
  },
  {
   "cell_type": "markdown",
   "metadata": {},
   "source": [
    "### Find the end points of the MUSE data within the SITELLE data"
   ]
  },
  {
   "cell_type": "code",
   "execution_count": null,
   "metadata": {},
   "outputs": [],
   "source": [
    "xvalues = np.where(np.any(footprint,axis=0))\n",
    "xmin,xmax = np.min(xvalues),np.max(xvalues)\n",
    "yvalues = np.where(np.any(footprint,axis=1))\n",
    "ymin,ymax = np.min(yvalues),np.max(yvalues)"
   ]
  },
  {
   "cell_type": "markdown",
   "metadata": {},
   "source": [
    "### Plot the SITELLE data within the bounds of the MUSE data"
   ]
  },
  {
   "cell_type": "code",
   "execution_count": null,
   "metadata": {},
   "outputs": [],
   "source": [
    "deep = cube.get_deep_frame()\n",
    "deep.imshow(perc=95, wcs=wcs)\n",
    "pl.grid()\n",
    "#pl.xlim(xmin,xmax)\n",
    "#pl.ylim(ymin,ymax)\n",
    "pl.title(f'{galaxy} SITELLE deepframe')# \\n in MUSE bounds')\n",
    "pl.xlabel('R.A.')\n",
    "pl.ylabel('Dec.')\n",
    "cb = pl.colorbar(shrink=0.8, format='%.1e')\n",
    "cb.ax.set_title('Integrated \\nFlux')"
   ]
  },
  {
   "cell_type": "markdown",
   "metadata": {},
   "source": [
    "### Reproject the HII region mask to the same image size as the SITELLE image"
   ]
  },
  {
   "cell_type": "code",
   "execution_count": null,
   "metadata": {},
   "outputs": [],
   "source": [
    "array, footprint = reproject_interp(nebulae_mask, output_projection=wcs, shape_out=deepframe.data.shape)\n",
    "repro_mask = NDData(data=array, meta = nebulae_mask.meta, wcs=wcs)"
   ]
  },
  {
   "cell_type": "markdown",
   "metadata": {},
   "source": [
    "### Overlay the HII region locations onto the SITELLE image"
   ]
  },
  {
   "cell_type": "code",
   "execution_count": null,
   "metadata": {},
   "outputs": [],
   "source": [
    "deep = cube.get_deep_frame()\n",
    "#deep.imshow(perc=95, wcs=wcs, cmap='Greys', label='SITELLE deep frame')\n",
    "deep.imshow(wcs=wcs, cmap='Greys')\n",
    "\n",
    "plt.imshow(repro_mask.data, cmap='Reds')#,  alpha=0.9)\n",
    "pl.title(f'{galaxy} SITELLE deepframe \\n overlaid with HII region masks')\n",
    "pl.gca().invert_xaxis()\n",
    "pl.xlabel('R.A.')\n",
    "pl.ylabel('Dec.')\n",
    "\n",
    "for i in np.array([13, 767, 915]):\n",
    "    testreg = i\n",
    "    testpix = np.where(repro_mask.data == testreg)\n",
    "    pl.scatter(testpix[1], testpix[0], marker='o', alpha=0.9, c='purple')#, label='HII region')\n",
    "\n",
    "#testreg = 767\n",
    "#testpix = np.where(repro_mask.data == testreg)\n",
    "#pl.scatter(testpix[1], testpix[0], marker='.', alpha=0.05, c='purple')\n",
    "\n",
    "zoomval = 0\n",
    "pl.xlim(xmin*(1-zoomval),xmax*(1+zoomval))\n",
    "pl.ylim(ymin*(1-zoomval),ymax*(1+zoomval))\n",
    "#cb = pl.colorbar(shrink=0.8, format='%.1e')\n",
    "#cb.ax.set_title('Integrated \\nFlux')"
   ]
  },
  {
   "cell_type": "markdown",
   "metadata": {},
   "source": [
    "### Find the brightest regions in the galaxy"
   ]
  },
  {
   "cell_type": "code",
   "execution_count": null,
   "metadata": {},
   "outputs": [],
   "source": [
    "np.where(musedata['OII7319_FLUX'] > 30*musedata['OII7319_FLUX_ERR'])"
   ]
  },
  {
   "cell_type": "markdown",
   "metadata": {},
   "source": [
    "### Plot a spectrum for a given pixel region"
   ]
  },
  {
   "cell_type": "code",
   "execution_count": null,
   "metadata": {},
   "outputs": [],
   "source": [
    "regnum = 13\n",
    "\n",
    "galveldic = {'NGC4254': 2388 , 'NGC4535': 1954  , 'NGC3351': 775, 'NGC2835': 867, 'NGC0628':651}\n",
    "galvel = galveldic[galaxy]\n",
    "\n",
    "wave1 = 3726\n",
    "wave2 = 3729\n",
    "\n",
    "w1 = wave1*(musedata[regnum]['HA6562_VEL']+galvel)/(299792) + wave1\n",
    "w2 = wave2*(musedata[regnum]['HA6562_VEL']+galvel)/(299792) + wave2\n",
    "\n",
    "reg = np.where(repro_mask.data == regnum)\n",
    "reg = (reg[1], reg[0])\n",
    "\n",
    "spectrum1 = cube.extract_integrated_spectrum(reg, median=True);\n",
    "#spectrum2 = cube.extract_integrated_spectrum(reg, mean_flux=True)\n",
    "\n",
    "fac = cube.params.flambda/cube.dimz/cube.params.exposure_time\n",
    "#fac = 10**-20\n",
    "\n",
    "fig = plt.figure()\n",
    "fig.set_size_inches(10, 4)\n",
    "\n",
    "#flux = np.real(spectrum1[1])/(fac)\n",
    "flux = spectrum1[1]\n",
    "\n",
    "wave = (1/spectrum1[0])*10**8\n",
    "\n",
    "plt.plot(wave, flux, c='k', label='Spectrum')\n",
    "plt.axvline(w1, linestyle='--', c='r', alpha=0.75, label=f'[OII]{wave1} at {round(w1,1)} Angstrom')\n",
    "plt.axvline(w2, linestyle='--', c='orange', alpha=0.75, label=f'[OII]{wave2} at {round(w2,1)} Angstrom')\n",
    "plt.xlim(wave1-150, wave1+150)\n",
    "\n",
    "plt.xlabel('Wavelength [Angstrom]')\n",
    "plt.ylabel(r'Flux [$\\frac{erg}{cm^{2} \\cdot s \\cdot Angstrom}$]')\n",
    "plt.title(f'Integrated spectrum of Region {regnum} in {galaxy}')\n",
    "plt.legend(loc='lower right')"
   ]
  },
  {
   "cell_type": "markdown",
   "metadata": {},
   "source": [
    "### The line of code below finds the MUSE nebulae mask pixels and converts them into degree coordinates"
   ]
  },
  {
   "cell_type": "code",
   "execution_count": null,
   "metadata": {},
   "outputs": [],
   "source": [
    "regnum = 767\n",
    "testcoord = WCS(nebulae_mask.meta).pixel_to_world(np.where(nebulae_mask.data == regnum)[1], np.where(nebulae_mask.data == regnum)[0])"
   ]
  },
  {
   "cell_type": "markdown",
   "metadata": {},
   "source": [
    "### The code below takes the degree coordinates from above and converts them into SITELLE image pixel coordinates "
   ]
  },
  {
   "cell_type": "code",
   "execution_count": null,
   "metadata": {},
   "outputs": [],
   "source": [
    "sitpix = np.transpose(cube.world2pix((testcoord.ra.degree, testcoord.dec.degree)))\n",
    "sitpix = sitpix[0].astype(np.int64), sitpix[1].astype(np.int64)"
   ]
  },
  {
   "cell_type": "markdown",
   "metadata": {},
   "source": [
    "### Plot all of the regions on the plot below using the obtained SITELLE pixels"
   ]
  },
  {
   "cell_type": "code",
   "execution_count": null,
   "metadata": {},
   "outputs": [],
   "source": [
    "deep = cube.get_deep_frame()\n",
    "deep.imshow(wcs=wcs)#, cmap='Greys')\n",
    "\n",
    "\n",
    "pl.title(f'{galaxy} SITELLE deepframe \\n overlaid with HII region pixels')\n",
    "pl.xlabel('R.A.')\n",
    "pl.ylabel('Dec.')\n",
    "\n",
    "for i in range(30):\n",
    "    regnum = i\n",
    "    testcoord = WCS(nebulae_mask.meta).pixel_to_world(np.where(nebulae_mask.data == regnum)[1], np.where(nebulae_mask.data == regnum)[0])\n",
    "    sitpix = np.transpose(cube.world2pix((testcoord.ra.degree, testcoord.dec.degree)))\n",
    "    sitpix = sitpix[0].astype(np.int64), sitpix[1].astype(np.int64)\n",
    "    pl.scatter(sitpix[0], sitpix[1], marker='.', s=100, alpha=0.002, c='purple')\n",
    "\n",
    "zoomval = 0.1\n",
    "pl.xlim(xmin*(1-zoomval),xmax*(1+zoomval))\n",
    "pl.ylim(ymin*(1-zoomval),ymax*(1+zoomval))"
   ]
  }
 ],
 "metadata": {
  "kernelspec": {
   "display_name": "Python 3",
   "language": "python",
   "name": "python3"
  },
  "language_info": {
   "codemirror_mode": {
    "name": "ipython",
    "version": 3
   },
   "file_extension": ".py",
   "mimetype": "text/x-python",
   "name": "python",
   "nbconvert_exporter": "python",
   "pygments_lexer": "ipython3",
   "version": "3.7.16"
  },
  "orig_nbformat": 4
 },
 "nbformat": 4,
 "nbformat_minor": 2
}
