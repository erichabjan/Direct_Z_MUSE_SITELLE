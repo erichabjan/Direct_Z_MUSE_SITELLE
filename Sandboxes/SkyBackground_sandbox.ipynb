{
 "cells": [
  {
   "cell_type": "code",
   "execution_count": null,
   "metadata": {},
   "outputs": [],
   "source": [
    "import numpy as np\n",
    "import matplotlib.pyplot as plt\n",
    "from astropy.table import Table, join, QTable, vstack\n",
    "import astropy.units as u\n",
    "import sys\n",
    "import pyneb as pn\n",
    "from multiprocessing import Pool\n",
    "import multiprocessing as mp\n",
    "import math\n",
    "from astropy.io import fits\n",
    "from orcs.process import SpectralCube\n",
    "\n",
    "from astropy.nddata import NDData, Cutout2D\n",
    "from astropy.wcs import WCS\n",
    "\n",
    "import astropy.units as u\n",
    "from astropy.coordinates import SkyCoord\n",
    "\n",
    "from reproject import reproject_interp\n",
    "from regions import PixCoord\n",
    "\n",
    "import pylab as pl\n",
    "\n",
    "from scipy.optimize import curve_fit\n",
    "from scipy.integrate import quad\n",
    "\n",
    "from orb.fit import fit_lines_in_spectrum\n",
    "from orb.utils.spectrum import corr2theta, amp_ratio_from_flux_ratio\n",
    "from orb.core import Lines\n",
    "import gvar\n",
    "import orb\n",
    "\n",
    "import orb.utils.io as io\n",
    "import orb.utils.graph as graph\n",
    "\n",
    "import pyregion\n",
    "\n",
    "from scipy.integrate import simps"
   ]
  },
  {
   "cell_type": "markdown",
   "metadata": {},
   "source": [
    "### Import Data"
   ]
  },
  {
   "cell_type": "code",
   "execution_count": null,
   "metadata": {},
   "outputs": [],
   "source": [
    "galaxynum = 5\n",
    "galdic = {1:'NGC4254', 2:'NGC4535', 3:'NGC3351', 4:'NGC2835', 5:'NGC0628'}  #There is no SITELLE data for NGC 4254, NGC 2835 has the best data \n",
    "galaxy = galdic[galaxynum]\n",
    "print(galaxy)\n",
    "\n",
    "galveldic = {'NGC4254': 2388 , 'NGC4535': 1954  , 'NGC3351': 775, 'NGC2835': 867, 'NGC0628':651}\n",
    "galvel = galveldic[galaxy]\n",
    "\n",
    "infile = open(\"/home/habjan/jupfiles/data/Nebulae_catalogue_v3.fits\",'rb')\n",
    "hdul = Table.read(infile)\n",
    "musedata = hdul[hdul['gal_name'] == f'{galaxy}']\n",
    "\n",
    "hdul = fits.open(f'/home/habjan/jupfiles/data/{galaxy}_SITELLE_Spectra.fits')\n",
    "\n",
    "lam = hdul[0].data\n",
    "specextr = hdul[1].data\n",
    "\n",
    "infile = fits.open(f'/home/habjan/jupfiles/data/Nebulae_Catalogue_DR2_native_with_OII.fits')\n",
    "hdul = Table.read(infile)\n",
    "fabian = hdul[hdul['gal_name'] == f'{galaxy}']\n",
    "\n",
    "infile = f\"/home/habjan/jupfiles/data/{galaxy}_cube.hdf5\"\n",
    "cube = SpectralCube(infile)\n",
    "\n",
    "# WCS info for SITELLE\n",
    "hdul = fits.open(f\"/home/habjan/jupfiles/data/{galaxy}_cube.fits\")\n",
    "header = hdul[0].header\n",
    "wcs = WCS(header,naxis=2)\n",
    "\n",
    "# MUSE WCS info \n",
    "hdul = fits.open(f\"/home/habjan/jupfiles/data/{galaxy}_IMAGE_FOV_Johnson_B_WCS_Pall_mad.fits\")\n",
    "muse_data = NDData(data=hdul['DATA'].data, mask=np.isnan(hdul['DATA'].data), meta=hdul['DATA'].header, wcs=WCS(hdul['DATA'].header))    \n",
    "muse_data.data[muse_data.data==0] = np.nan\n",
    "\n",
    "# Halpha masks\n",
    "hdul = fits.open(f\"/home/habjan/jupfiles/data/{galaxy}_MAPS.fits\")\n",
    "Halpha = NDData(data=hdul['HA6562_FLUX'].data, mask=np.isnan(hdul['HA6562_FLUX'].data), meta=hdul['HA6562_FLUX'].header, wcs=WCS(hdul['HA6562_FLUX'].header))\n",
    "Halpha.data[muse_data.data==0] = np.nan\n",
    "\n",
    "# Import the HII region spatial masks\n",
    "hdul = fits.open(f\"/home/habjan/jupfiles/data/{galaxy}_nebulae_mask_V2.fits\")\n",
    "nebulae_mask = NDData(data = hdul[0].data.astype(float), mask=Halpha.mask, meta=hdul[0].header, wcs=WCS(hdul[0].header)) \n",
    "nebulae_mask.data[nebulae_mask.data==-1] = np.nan\n",
    "\n",
    "# SITELLE deepframe \n",
    "hdul = fits.open(f\"/home/habjan/jupfiles/data/{galaxy}_deepframe.fits\")\n",
    "\n",
    "deepframe = NDData(data=hdul[0].data, meta=hdul[0].header, wcs=wcs)"
   ]
  },
  {
   "cell_type": "markdown",
   "metadata": {},
   "source": [
    "### Find the Object in the Nebular catalog with the smallest deprojected radius and obtain pixel coordinates in the SITELLE image"
   ]
  },
  {
   "cell_type": "code",
   "execution_count": null,
   "metadata": {},
   "outputs": [],
   "source": [
    "cenreg = np.where(np.min(musedata['deproj_dist']) == musedata['deproj_dist'])[0][0]\n",
    "testcoord = WCS(nebulae_mask.meta).pixel_to_world(np.where(nebulae_mask.data == cenreg)[1], np.where(nebulae_mask.data == cenreg)[0])\n",
    "sitpix = np.transpose(cube.world2pix((testcoord.ra.degree, testcoord.dec.degree)))\n",
    "sitpix = sitpix[0].astype(np.int64), sitpix[1].astype(np.int64)"
   ]
  },
  {
   "cell_type": "markdown",
   "metadata": {},
   "source": [
    "### Plot the deep frame image of the galaxy"
   ]
  },
  {
   "cell_type": "code",
   "execution_count": null,
   "metadata": {},
   "outputs": [],
   "source": [
    "deep = cube.get_deep_frame()\n",
    "deep.imshow(perc=95, wcs=wcs)#, cmap='Greys')\n",
    "\n",
    "pl.scatter(sitpix[0], sitpix[1], color='red')\n",
    "\n",
    "pl.title(f'{galaxy} SITELLE deepframe')\n",
    "pl.xlabel('R.A.')\n",
    "pl.ylabel('Dec.')"
   ]
  },
  {
   "cell_type": "markdown",
   "metadata": {},
   "source": [
    "### Determine inner and outer radii as well as the center of the annulus"
   ]
  },
  {
   "cell_type": "code",
   "execution_count": null,
   "metadata": {},
   "outputs": [],
   "source": [
    "nebpix = (np.where(~np.isnan(nebulae_mask.data))[0], np.where(~np.isnan(nebulae_mask.data))[1])\n",
    "testcoord = WCS(nebulae_mask.meta).pixel_to_world(nebpix[1], nebpix[0])\n",
    "sitpix = np.transpose(cube.world2pix((testcoord.ra.degree, testcoord.dec.degree)))\n",
    "sitpix = sitpix[0].astype(np.int64), sitpix[1].astype(np.int64)\n",
    "\n",
    "r = np.max([np.max(sitpix[0]) - np.min(sitpix[0]), np.max(sitpix[1]) - np.min(sitpix[1])]) / 2 \n",
    "rmin = r * 3\n",
    "if galaxy == 'NGC0628':\n",
    "    rmin = r * 2.5\n",
    "rmax = np.sqrt(r**2 + rmin**2)\n",
    "\n",
    "cenreg = np.where(np.min(musedata['deproj_dist']) == musedata['deproj_dist'])[0][0]\n",
    "nebpix = (np.where(nebulae_mask.data == cenreg)[0], np.where(nebulae_mask.data == cenreg)[1])\n",
    "testcoord = WCS(nebulae_mask.meta).pixel_to_world(nebpix[1], nebpix[0])\n",
    "sitpix = np.transpose(cube.world2pix((testcoord.ra.degree, testcoord.dec.degree)))\n",
    "sitpix = sitpix[0].astype(np.int64), sitpix[1].astype(np.int64)\n",
    "x = np.median(sitpix[0])\n",
    "y = np.median(sitpix[1])\n",
    "\n",
    "rmin, rmax, x, y"
   ]
  },
  {
   "cell_type": "markdown",
   "metadata": {},
   "source": [
    "### code to find all of the regions in this annulus"
   ]
  },
  {
   "cell_type": "code",
   "execution_count": null,
   "metadata": {},
   "outputs": [],
   "source": [
    "imin = x - rmax\n",
    "imax = x + rmax + 1\n",
    "jmin = y - rmax\n",
    "jmax = y + rmax + 1\n",
    "xlist = []\n",
    "ylist = []\n",
    "buffval = 50\n",
    "\n",
    "for i in np.arange(imin, imax):\n",
    "    if 0 + buffval <= i <= 2048 - buffval:\n",
    "        for j in np.arange(jmin, jmax):\n",
    "            if 0 + buffval <= j <= 2064 - buffval:\n",
    "                ij = np.array([i,j])\n",
    "                dist = np.linalg.norm(ij - np.array((x,y)))\n",
    "                i, j = int(i), int(j)\n",
    "                distnum = 3\n",
    "                if dist > rmin and dist <= rmax:# and np.all(np.isnan(nebulae_mask.data[i-distnum:i+distnum,j-distnum:j+distnum])):\n",
    "                    xlist.append(i)\n",
    "                    ylist.append(j)\n",
    "\n",
    "inpix = (xlist, ylist)"
   ]
  },
  {
   "cell_type": "markdown",
   "metadata": {},
   "source": [
    "### Plot the spaxels in the annulus for visualization"
   ]
  },
  {
   "cell_type": "code",
   "execution_count": null,
   "metadata": {},
   "outputs": [],
   "source": [
    "deep = cube.get_deep_frame()\n",
    "deep.imshow(perc=95, wcs=wcs)#, cmap='Greys')\n",
    "\n",
    "pl.scatter(inpix[0], inpix[1], color='red', marker='.', s=5, alpha = 0.01)\n",
    "\n",
    "pl.title(f'{galaxy} SITELLE deep frame')\n",
    "pl.xlabel('R.A.')\n",
    "pl.ylabel('Dec.')"
   ]
  },
  {
   "cell_type": "markdown",
   "metadata": {},
   "source": [
    "### Extract the average sky background per pixel within the annulus"
   ]
  },
  {
   "cell_type": "code",
   "execution_count": null,
   "metadata": {},
   "outputs": [],
   "source": [
    "batchnum = 1000\n",
    "annuluslist = [(inpix[0][i:i+batchnum], inpix[1][i:i+batchnum]) for i in range(0, len(inpix[0]), batchnum)]\n",
    "speclist = []\n",
    "\n",
    "for i in range(len(annuluslist)):\n",
    "    spec = cube.extract_integrated_spectrum(annuluslist[i], mean_flux=True)\n",
    "    speclist.append(np.real(spec[1]))\n",
    "\n",
    "waves = np.real(spec[0])\n",
    "specs = np.mean(speclist, axis=0)"
   ]
  },
  {
   "cell_type": "markdown",
   "metadata": {},
   "source": [
    "### Here are some of the brightest regions in the galaxy. Find a spaxel in one of the regions to visualize"
   ]
  },
  {
   "cell_type": "code",
   "execution_count": null,
   "metadata": {},
   "outputs": [],
   "source": [
    "brightreg = np.where(musedata['OII7319_FLUX'] > 30*musedata['OII7319_FLUX_ERR'])[0]\n",
    "brightreg"
   ]
  },
  {
   "cell_type": "markdown",
   "metadata": {},
   "source": [
    "### Use the background spectrum obtained from the SITELLE cube to subtract the background from an HII region spectrum from one of the above regions"
   ]
  },
  {
   "cell_type": "code",
   "execution_count": null,
   "metadata": {},
   "outputs": [],
   "source": [
    "brightnum = 0\n",
    "region = brightreg[brightnum]\n",
    "\n",
    "nebpix = np.where(nebulae_mask.data == region)\n",
    "testcoord = WCS(nebulae_mask.meta).pixel_to_world(nebpix[1], nebpix[0])\n",
    "sitpix = np.transpose(cube.world2pix((testcoord.ra.degree, testcoord.dec.degree)))\n",
    "sitpix = sitpix[0].astype(np.int64), sitpix[1].astype(np.int64)\n",
    "\n",
    "regscale = len(nebpix[0])    ## Number of pixels in HII region is used to rescale the background spectrum so that the appropriate amount of background is subtracted\n",
    "\n",
    "specback = cube.extract_integrated_spectrum(sitpix, median=True)\n",
    "specback = np.real(specback[1])\n",
    "specback = specback - (regscale * specs)    ## Background is subtracted \n",
    "\n",
    "ave = specback / (specextr[region] * 10**-20)\n",
    "ave = ave[np.where(~np.isnan(ave))]\n",
    "np.mean(ave)"
   ]
  },
  {
   "cell_type": "markdown",
   "metadata": {},
   "source": [
    "### Plot the sky background, an existing spectrum from an HII region, and now the background subtracted region"
   ]
  },
  {
   "cell_type": "code",
   "execution_count": null,
   "metadata": {},
   "outputs": [],
   "source": [
    "low, up = np.where(cube.params.filter_range[0] < waves)[0][0], np.where(cube.params.filter_range[1] < waves)[0][0]\n",
    "red3729 = 1/((3729*(galvel)/(299792) + 3729) * 10**-8)\n",
    "\n",
    "fig = plt.figure()\n",
    "fig.set_size_inches(10, 4)\n",
    "\n",
    "plt.plot(waves, (specextr[region] * 10**-20), color='green', label = f'Region {region} Spectrum')\n",
    "plt.plot(waves, specback, color='k',label=f'Sky Background subtracted Region {region}')\n",
    "plt.plot(waves, specs * regscale, color='red', linestyle='--', label=f'Sky Background Flux (rescaled {regscale}x)')\n",
    "\n",
    "#plt.plot(waves, (specextr[brightreg[region]] * 10**-20), color='green', label=f'Sky Subtracted Region {brightreg[region]}')\n",
    "plt.axhline(0, color='k', label='0 line')\n",
    "plt.axvline(red3729, color='blue', linestyle='--', label='Redshifted 3729 Angstrom')\n",
    "\n",
    "plt.xlim(np.min(waves[low:up]), np.max(waves[low:up]))\n",
    "plt.xlim(waves[low], waves[up])\n",
    "#plt.ylim(3.5*10**-19, 7*10**-19)\n",
    "\n",
    "plt.legend(bbox_to_anchor=(1.53, 0.5), fontsize=\"9\",loc='center right');\n",
    "#plt.yscale('log')\n",
    "plt.title(f'{galaxy} sky background')\n",
    "plt.xlabel(r'Wavenumber [cm$^{-1}$]')\n",
    "plt.ylabel(r'Flux [$\\frac{erg}{cm^{2} \\cdot s \\cdot Angstrom}$]')"
   ]
  },
  {
   "cell_type": "markdown",
   "metadata": {},
   "source": [
    "### Create a function to extract a sky line background spectrum"
   ]
  },
  {
   "cell_type": "code",
   "execution_count": null,
   "metadata": {},
   "outputs": [],
   "source": [
    "def skyback(incube, nmask, phdata, ingal):\n",
    "\n",
    "    nebpix = (np.where(~np.isnan(nmask.data))[0], np.where(~np.isnan(nmask.data))[1])\n",
    "    testcoord = WCS(nmask.meta).pixel_to_world(nebpix[1], nebpix[0])\n",
    "    sitpix = np.transpose(incube.world2pix((testcoord.ra.degree, testcoord.dec.degree)))\n",
    "    sitpix = sitpix[0].astype(np.int64), sitpix[1].astype(np.int64)\n",
    "\n",
    "    r = np.max([np.max(sitpix[0]) - np.min(sitpix[0]), np.max(sitpix[1]) - np.min(sitpix[1])]) / 2 \n",
    "    rmin = r * 3\n",
    "    if ingal == 'NGC0628':\n",
    "        rmin = r * 2.5\n",
    "    rmax = np.sqrt(r**2 + rmin**2)\n",
    "\n",
    "    cenreg = np.where(np.min(phdata['deproj_dist']) == phdata['deproj_dist'])[0][0]\n",
    "    nebpix = (np.where(nmask.data == cenreg)[0], np.where(nmask.data == cenreg)[1])\n",
    "    testcoord = WCS(nmask.meta).pixel_to_world(nebpix[1], nebpix[0])\n",
    "    sitpix = np.transpose(incube.world2pix((testcoord.ra.degree, testcoord.dec.degree)))\n",
    "    sitpix = sitpix[0].astype(np.int64), sitpix[1].astype(np.int64)\n",
    "    x = np.median(sitpix[0])\n",
    "    y = np.median(sitpix[1])\n",
    "\n",
    "    imin = x - rmax\n",
    "    imax = x + rmax + 1\n",
    "    jmin = y - rmax\n",
    "    jmax = y + rmax + 1\n",
    "    xlist = []\n",
    "    ylist = []\n",
    "    buffval = 50\n",
    "\n",
    "    for i in np.arange(imin, imax):\n",
    "        if 0 + buffval <= i <= 2048 - buffval:\n",
    "            for j in np.arange(jmin, jmax):\n",
    "                if 0 + buffval <= j <= 2064 - buffval:\n",
    "                    ij = np.array([i,j])\n",
    "                    dist = np.linalg.norm(ij - np.array((x,y)))\n",
    "                    i, j = int(i), int(j)\n",
    "                    distnum = 3\n",
    "                    if dist > rmin and dist <= rmax:# and np.all(np.isnan(nmask.data[i-distnum:i+distnum,j-distnum:j+distnum])):\n",
    "                        xlist.append(i)\n",
    "                        ylist.append(j)\n",
    "\n",
    "    inpix = (xlist, ylist)\n",
    "\n",
    "    batchnum = 1000 \n",
    "    annuluslist = [(inpix[0][i:i+batchnum], inpix[1][i:i+batchnum]) for i in range(0, len(inpix[0]), batchnum)]\n",
    "    speclist = []\n",
    "\n",
    "    for i in range(len(annuluslist)):\n",
    "        spec = incube.extract_integrated_spectrum(annuluslist[i], mean_flux=True)\n",
    "\n",
    "        speclist.append(np.real(spec[1]))\n",
    "\n",
    "    return np.median(speclist, axis=0)"
   ]
  },
  {
   "cell_type": "markdown",
   "metadata": {},
   "source": [
    "### Extract the [OII] fluxes"
   ]
  },
  {
   "cell_type": "code",
   "execution_count": null,
   "metadata": {},
   "outputs": [],
   "source": [
    "inspec = (specextr[brightreg[region]] * 10**-20) - specs\n",
    "\n",
    "OII3726 = Lines().get_line_cm1('[OII]3726')\n",
    "OII3729 = Lines().get_line_cm1('[OII]3729')\n",
    "\n",
    "invel = musedata[region]['HA6562_VEL']+galvel\n",
    "\n",
    "amp_ratio = amp_ratio_from_flux_ratio(OII3729,OII3726,1.4)\n",
    "velocity_gvar = gvar.gvar(invel, 20)\n",
    "broadening_gvar = gvar.gvar(1, 20)\n",
    "\n",
    "fitshape = 'sinc'\n",
    "\n",
    "fit = fit_lines_in_spectrum(inspec, [OII3726, OII3729], \n",
    "                      step=cube.params.step, \n",
    "                      order=cube.params.order, \n",
    "                      nm_laser=cube.params.nm_laser, \n",
    "                      theta=corr2theta(cube.params.axis_corr), \n",
    "                      zpd_index=cube.params.zpd_index, \n",
    "                      wavenumber=True,\n",
    "                      apodization=1, \n",
    "                      fmodel=fitshape,\n",
    "                      pos_def=['1', '1'],\n",
    "                      pos_cov=[velocity_gvar],\n",
    "                      amp_def=['1', '1'], \n",
    "                      amp_guess=[1, amp_ratio],\n",
    "                      #sigma_def=['1', '1'],\n",
    "                      #sigma_guess=[broadening_gvar,broadening_gvar],\n",
    "                      #sigma_cov=10\n",
    "                      #snr_guess=3\n",
    "                      )"
   ]
  },
  {
   "cell_type": "markdown",
   "metadata": {},
   "source": [
    "### Assign the fits to variables"
   ]
  },
  {
   "cell_type": "code",
   "execution_count": null,
   "metadata": {},
   "outputs": [],
   "source": [
    "OII3726_fit, OII3729_fit = fit['fitted_models']['Cm1LinesModel']\n",
    "OII3726red, OII3729red = fit['lines_params'][0][2], fit['lines_params'][1][2]"
   ]
  },
  {
   "cell_type": "markdown",
   "metadata": {},
   "source": [
    "### Plot the fit results"
   ]
  },
  {
   "cell_type": "code",
   "execution_count": null,
   "metadata": {},
   "outputs": [],
   "source": [
    "low, up = np.where(cube.params.filter_range[0] < waves)[0][0], np.where(cube.params.filter_range[1] < waves)[0][0]\n",
    "red3729 = 1/((3729*(galvel)/(299792) + 3729) * 10**-8)\n",
    "\n",
    "fig = plt.figure()\n",
    "fig.set_size_inches(10, 4)\n",
    "\n",
    "region = 0\n",
    "\n",
    "plt.plot(waves, (specextr[brightreg[region]] * 10**-20) - specs, color='green', label=f'Sky Subtracted Region {brightreg[region]}')\n",
    "plt.axhline(0, color='k', label='0 line')\n",
    "\n",
    "plt.plot(waves, OII3726_fit, color='red', label='[OII]3726 fit')\n",
    "plt.plot(waves, OII3729_fit, color='purple', label='[OII]3729 fit')\n",
    "plt.plot(waves, OII3726_fit+OII3729_fit, c='k', label=f'[OII]3729 Fit + [OII3726] Fit')\n",
    "\n",
    "plt.axvline(red3729, color='blue', linestyle='--', label='Redshifted 3729 Angstrom')\n",
    "plt.xlim(np.min(waves[low:up]), np.max(waves[low:up]))\n",
    "plt.xlim(OII3726red-150, OII3726red+150)\n",
    "#plt.ylim(0, None)\n",
    "\n",
    "plt.legend()\n",
    "plt.title(f'{galaxy} sky background')\n",
    "plt.xlabel(r'Wavenumber [cm$^{-1}$]')\n",
    "plt.ylabel(r'Flux [$\\frac{erg}{cm^{2} \\cdot s \\cdot Angstrom}$]')"
   ]
  }
 ],
 "metadata": {
  "kernelspec": {
   "display_name": "orb3",
   "language": "python",
   "name": "python3"
  },
  "language_info": {
   "codemirror_mode": {
    "name": "ipython",
    "version": 3
   },
   "file_extension": ".py",
   "mimetype": "text/x-python",
   "name": "python",
   "nbconvert_exporter": "python",
   "pygments_lexer": "ipython3",
   "version": "3.7.16"
  },
  "orig_nbformat": 4
 },
 "nbformat": 4,
 "nbformat_minor": 2
}
